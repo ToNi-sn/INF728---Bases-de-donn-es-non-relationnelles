{
 "cells": [
  {
   "cell_type": "code",
   "execution_count": 1,
   "id": "fe376157",
   "metadata": {},
   "outputs": [],
   "source": [
    "import warnings\n",
    "warnings.filterwarnings('ignore')\n",
    "import plotly.express as px\n",
    "import pandas as pd\n",
    "import pyspark.sql.functions as f\n",
    "df_country_code=pd.read_csv('fips-10-4-to-iso-country-codes.csv')\n",
    "from pyspark.sql.functions import col\n",
    "from plotly.subplots import make_subplots\n",
    "import plotly.graph_objects as go"
   ]
  },
  {
   "cell_type": "code",
   "execution_count": 2,
   "id": "5900d971",
   "metadata": {},
   "outputs": [],
   "source": [
    "from pyspark.sql import SQLContext\n",
    "sqlSparkContext = SQLContext(sc)\n",
    "spark.conf.set(\"spark.sql.catalog.mycatalog\",\"com.datastax.spark.connector.datasource.CassandraCatalog\")"
   ]
  },
  {
   "cell_type": "markdown",
   "id": "3da3aeb9",
   "metadata": {},
   "source": [
    "### Donnée du jour"
   ]
  },
  {
   "cell_type": "code",
   "execution_count": 45,
   "id": "ad34e216",
   "metadata": {},
   "outputs": [
    {
     "name": "stdout",
     "output_type": "stream",
     "text": [
      "0   2022-02-11 09:30:00\n",
      "Name: day, dtype: datetime64[ns]\n"
     ]
    },
    {
     "name": "stderr",
     "output_type": "stream",
     "text": [
      "22/02/11 09:41:01 WARN ChannelPool: [s0|/192.168.3.108:9042]  Error while opening new channel (ConnectionInitException: [s0|connecting...] Protocol initialization request, step 1 (STARTUP {CQL_VERSION=3.0.0, DRIVER_NAME=DataStax Java driver for Apache Cassandra(R), DRIVER_VERSION=4.12.0, CLIENT_ID=620b9e75-6972-404e-83f6-3a513d4929c3, APPLICATION_NAME=Spark-Cassandra-Connector-app-20220211083620-0006}): failed to send request (com.datastax.oss.driver.shaded.netty.channel.StacklessClosedChannelException))\n",
      "22/02/11 09:41:55 WARN ChannelPool: [s0|/192.168.3.108:9042]  Error while opening new channel (ConnectionInitException: [s0|connecting...] Protocol initialization request, step 1 (STARTUP {CQL_VERSION=3.0.0, DRIVER_NAME=DataStax Java driver for Apache Cassandra(R), DRIVER_VERSION=4.12.0, CLIENT_ID=620b9e75-6972-404e-83f6-3a513d4929c3, APPLICATION_NAME=Spark-Cassandra-Connector-app-20220211083620-0006}): failed to send request (com.datastax.oss.driver.shaded.netty.channel.StacklessClosedChannelException))\n",
      "22/02/11 09:42:55 WARN ChannelPool: [s0|/192.168.3.108:9042]  Error while opening new channel (ConnectionInitException: [s0|connecting...] Protocol initialization request, step 1 (STARTUP {CQL_VERSION=3.0.0, DRIVER_NAME=DataStax Java driver for Apache Cassandra(R), DRIVER_VERSION=4.12.0, CLIENT_ID=620b9e75-6972-404e-83f6-3a513d4929c3, APPLICATION_NAME=Spark-Cassandra-Connector-app-20220211083620-0006}): failed to send request (com.datastax.oss.driver.shaded.netty.channel.StacklessClosedChannelException))\n",
      "22/02/11 09:43:55 WARN ChannelPool: [s0|/192.168.3.108:9042]  Error while opening new channel (ConnectionInitException: [s0|connecting...] Protocol initialization request, step 1 (STARTUP {CQL_VERSION=3.0.0, DRIVER_NAME=DataStax Java driver for Apache Cassandra(R), DRIVER_VERSION=4.12.0, CLIENT_ID=620b9e75-6972-404e-83f6-3a513d4929c3, APPLICATION_NAME=Spark-Cassandra-Connector-app-20220211083620-0006}): failed to send request (com.datastax.oss.driver.shaded.netty.channel.StacklessClosedChannelException))\n",
      "22/02/11 09:44:55 WARN ChannelPool: [s0|/192.168.3.108:9042]  Error while opening new channel (ConnectionInitException: [s0|connecting...] Protocol initialization request, step 1 (STARTUP {CQL_VERSION=3.0.0, DRIVER_NAME=DataStax Java driver for Apache Cassandra(R), DRIVER_VERSION=4.12.0, CLIENT_ID=620b9e75-6972-404e-83f6-3a513d4929c3, APPLICATION_NAME=Spark-Cassandra-Connector-app-20220211083620-0006}): failed to send request (com.datastax.oss.driver.shaded.netty.channel.StacklessClosedChannelException))\n",
      "22/02/11 09:45:52 WARN ChannelPool: [s0|/192.168.3.108:9042]  Error while opening new channel (ConnectionInitException: [s0|connecting...] Protocol initialization request, step 1 (STARTUP {CQL_VERSION=3.0.0, DRIVER_NAME=DataStax Java driver for Apache Cassandra(R), DRIVER_VERSION=4.12.0, CLIENT_ID=620b9e75-6972-404e-83f6-3a513d4929c3, APPLICATION_NAME=Spark-Cassandra-Connector-app-20220211083620-0006}): failed to send request (com.datastax.oss.driver.shaded.netty.channel.StacklessClosedChannelException))\n",
      "22/02/11 09:46:51 WARN ChannelPool: [s0|/192.168.3.108:9042]  Error while opening new channel (ConnectionInitException: [s0|connecting...] Protocol initialization request, step 1 (STARTUP {CQL_VERSION=3.0.0, DRIVER_NAME=DataStax Java driver for Apache Cassandra(R), DRIVER_VERSION=4.12.0, CLIENT_ID=620b9e75-6972-404e-83f6-3a513d4929c3, APPLICATION_NAME=Spark-Cassandra-Connector-app-20220211083620-0006}): failed to send request (com.datastax.oss.driver.shaded.netty.channel.StacklessClosedChannelException))\n"
     ]
    }
   ],
   "source": [
    "date = sqlSparkContext.sql(\"SELECT max(date) as day FROM mycatalog.gdelt_prod.importstatus\").toPandas()\n",
    "print(pd.to_datetime(date.day,format='%Y%m%d%H%M%S'))"
   ]
  },
  {
   "cell_type": "markdown",
   "id": "7d8a6e0b",
   "metadata": {},
   "source": [
    "### Requête N°1\n",
    "### Afficher le nombre d’articles/évènements qu’il y a eu pour chaque triplet (jour, pays de l’évènement, langue de l’article)."
   ]
  },
  {
   "cell_type": "code",
   "execution_count": 31,
   "id": "caeb842c",
   "metadata": {},
   "outputs": [
    {
     "name": "stderr",
     "output_type": "stream",
     "text": [
      "[Stage 40:>                                                         (0 + 1) / 1]\r"
     ]
    },
    {
     "name": "stdout",
     "output_type": "stream",
     "text": [
      "+--------+----+------+---------+-----------+\n",
      "|    date|pays|langue|nb_events|nb_articles|\n",
      "+--------+----+------+---------+-----------+\n",
      "|20210709|  TT|    NA|        4|          5|\n",
      "|20220204|  VQ|    NA|        7|          8|\n",
      "|20210402|  AU|    NA|      342|        390|\n",
      "|20210306|  GQ|    NA|       37|         37|\n",
      "|20200829|  LI|    NA|        2|          2|\n",
      "|20210909|  SW|    NA|      215|        252|\n",
      "|20210724|  CW|    NA|        2|          2|\n",
      "|20210207|  EZ|    NA|       53|         57|\n",
      "|20201028|  YM|    NA|        2|          2|\n",
      "|20211012|  TZ|    NA|      132|        132|\n",
      "+--------+----+------+---------+-----------+\n",
      "only showing top 10 rows\n",
      "\n"
     ]
    },
    {
     "name": "stderr",
     "output_type": "stream",
     "text": [
      "                                                                                \r"
     ]
    }
   ],
   "source": [
    "df1 = sqlSparkContext.sql(\"SELECT day as date, action_geocountrycode as pays, mentiondoctranslationalinfo as langue,COUNT(DISTINCT globaleventid) as nb_events,COUNT(globaleventid) as nb_articles FROM mycatalog.gdelt_prod.nb_articles_events GROUP BY day, action_geocountrycode,mentiondoctranslationalinfo\").show(10)\n"
   ]
  },
  {
   "cell_type": "markdown",
   "id": "75247a51",
   "metadata": {},
   "source": [
    "### Requête N°2\n",
    "### Pour un pays donné en paramètre, affichez les évènements qui y ont eu place triées par le nombre de mentions (tri décroissant); permettez une agrégation par jour/mois/année"
   ]
  },
  {
   "cell_type": "code",
   "execution_count": 32,
   "id": "6cecbc65",
   "metadata": {},
   "outputs": [
    {
     "name": "stdout",
     "output_type": "stream",
     "text": [
      "RS\n"
     ]
    }
   ],
   "source": [
    "country_1=df_country_code[df_country_code['Name']=='Russia']['FIPS 10-4'].values[0]\n",
    "print(country_1)"
   ]
  },
  {
   "cell_type": "code",
   "execution_count": 33,
   "id": "b4a9b02a",
   "metadata": {},
   "outputs": [],
   "source": [
    "country=country_1\n",
    "temps=\"day\""
   ]
  },
  {
   "cell_type": "code",
   "execution_count": 7,
   "id": "91bea379",
   "metadata": {},
   "outputs": [
    {
     "name": "stderr",
     "output_type": "stream",
     "text": [
      "[Stage 3:>                                                          (0 + 1) / 1]\r"
     ]
    },
    {
     "name": "stdout",
     "output_type": "stream",
     "text": [
      "+--------+-------------+-----------+---------------------+\n",
      "|     day|globaleventid|nummentions|action_geocountrycode|\n",
      "+--------+-------------+-----------+---------------------+\n",
      "|20211231|   1021307781|        260|                   RS|\n",
      "|20211231|   1021307778|        202|                   RS|\n",
      "|20211231|   1021306706|        202|                   RS|\n",
      "|20211231|   1021307790|        180|                   RS|\n",
      "|20211231|   1021306914|        180|                   RS|\n",
      "|20211231|   1021307448|        180|                   RS|\n",
      "|20211231|   1021306919|        180|                   RS|\n",
      "|20211231|   1021306703|        178|                   RS|\n",
      "|20211228|   1021007361|        170|                   RS|\n",
      "|20220129|   1025581335|        168|                   RS|\n",
      "+--------+-------------+-----------+---------------------+\n",
      "only showing top 10 rows\n",
      "\n"
     ]
    },
    {
     "name": "stderr",
     "output_type": "stream",
     "text": [
      "                                                                                \r"
     ]
    }
   ],
   "source": [
    "sqlSparkContext.sql(\"SELECT {}, globaleventid,nummentions, action_geocountrycode FROM mycatalog.gdelt_prod.countries_events WHERE action_geocountrycode='{}' GROUP BY {},globaleventid,nummentions,action_geocountrycode ORDER BY nummentions DESC\".format(temps,country,temps)).show(10)\n"
   ]
  },
  {
   "cell_type": "markdown",
   "id": "d083fb6d",
   "metadata": {},
   "source": [
    "### Requête N°3\n",
    "### Pour une source de donnés passée en paramètre (gkg.SourceCommonName) affichez les thèmes, personnes, lieux dont les articles de cette sources parlent ainsi que le nombre d’articles et le ton moyen des articles (pour chaque thème/personne/lieu); permettez une agrégation par jour/mois/année."
   ]
  },
  {
   "cell_type": "code",
   "execution_count": 34,
   "id": "b86084cd",
   "metadata": {},
   "outputs": [],
   "source": [
    "source=\"bbc.com\"\n",
    "agg_time=\"month\""
   ]
  },
  {
   "cell_type": "code",
   "execution_count": 35,
   "id": "13882b5d",
   "metadata": {},
   "outputs": [],
   "source": [
    "df3 = sqlSparkContext.sql(\"SELECT {},sourcecommonname,themes,locations,persons,tone FROM mycatalog.gdelt_prod.data_source WHERE sourcecommonname='{}'\".format(agg_time,source))\n",
    "\n",
    "df_persons = df3.select(agg_time,'sourcecommonname','themes','locations','tone', f.explode(\"persons\").alias(\"person\"))\n",
    "df_locations = df3.select(agg_time,'sourcecommonname','themes',f.explode(\"locations\").alias(\"location\"),'tone',\"persons\")\n",
    "df_themes = df3.select(agg_time,'sourcecommonname',f.explode('themes').alias('theme'),\"locations\",'tone',\"persons\")\n"
   ]
  },
  {
   "cell_type": "markdown",
   "id": "6300bdf9",
   "metadata": {},
   "source": [
    "Themes"
   ]
  },
  {
   "cell_type": "code",
   "execution_count": 36,
   "id": "13b914e6",
   "metadata": {},
   "outputs": [
    {
     "name": "stderr",
     "output_type": "stream",
     "text": [
      "[Stage 41:>                                                         (0 + 1) / 1]\r"
     ]
    },
    {
     "name": "stdout",
     "output_type": "stream",
     "text": [
      "+------+--------------------+-------------------+-----------+\n",
      "| month|               theme|          avg(tone)|Nb_articles|\n",
      "+------+--------------------+-------------------+-----------+\n",
      "|202101|      GENERAL_HEALTH| -2.485387335389139|       1211|\n",
      "|202101|CRISISLEX_CRISISL...|-3.5989171564970457|       1142|\n",
      "|202101|WB_621_HEALTH_NUT...|-2.5867267669235146|       1086|\n",
      "|202101|  GENERAL_GOVERNMENT|-2.8930163343682738|        921|\n",
      "|202101|     UNGP_HEALTHCARE|  -2.23639224927766|        875|\n",
      "|202101|              LEADER|  -2.81520936552215|        863|\n",
      "|202101|             MEDICAL| -2.568336729628016|        848|\n",
      "|202101|USPEC_POLITICS_GE...|-2.7365415130466864|        789|\n",
      "|202101|UNGP_FORESTS_RIVE...| -2.148432724943785|        749|\n",
      "|202101|                KILL|-3.8344763864509086|        748|\n",
      "|202101|EPU_POLICY_GOVERN...|-2.9364468006282327|        746|\n",
      "|202101|WB_635_PUBLIC_HEALTH| -2.541889522869715|        745|\n",
      "|202101|WB_2165_HEALTH_EM...| -2.568507434497307|        664|\n",
      "|202101|CRISISLEX_C07_SAFETY| -4.342594287328182|        651|\n",
      "|202101|   WB_2167_PANDEMICS|-2.5373154792594947|        647|\n",
      "|202101|WB_2166_HEALTH_EM...|-2.5373154792594947|        647|\n",
      "|202101|MANMADE_DISASTER_...|-3.1631683724389226|        619|\n",
      "|202101|     HEALTH_PANDEMIC| -2.485805651765095|        604|\n",
      "|202101|TAX_DISEASE_CORON...| -2.480472224544845|        602|\n",
      "|202101|           EDUCATION| -2.014916476227975|        601|\n",
      "+------+--------------------+-------------------+-----------+\n",
      "only showing top 20 rows\n",
      "\n"
     ]
    },
    {
     "name": "stderr",
     "output_type": "stream",
     "text": [
      "                                                                                \r"
     ]
    }
   ],
   "source": [
    "df_themes2 = df_themes.groupBy(agg_time,'theme').agg(f.mean('tone'), f.count('theme').alias('Nb_articles'))\n",
    "df_themes2.sort(col(agg_time).asc() ,col('Nb_articles').desc()).show()"
   ]
  },
  {
   "cell_type": "code",
   "execution_count": 37,
   "id": "0c05af80",
   "metadata": {},
   "outputs": [
    {
     "name": "stderr",
     "output_type": "stream",
     "text": [
      "[Stage 42:>                                                         (0 + 1) / 1]\r"
     ]
    },
    {
     "name": "stdout",
     "output_type": "stream",
     "text": [
      "+------+--------------------+-------------------+-----------+\n",
      "| month|              person|          avg(tone)|Nb_articles|\n",
      "+------+--------------------+-------------------+-----------+\n",
      "|202101|no person(s) ment...| -3.004377866533689|        277|\n",
      "|202101|           joe biden|-2.5040315688096397|        254|\n",
      "|202101|        donald trump|-2.7241236392343255|        228|\n",
      "|202101|       boris johnson| -2.428439575025723|        168|\n",
      "|202101|        barack obama| -1.399427640106943|         45|\n",
      "|202101|       kamala harris|0.06884972954338248|         44|\n",
      "|202101|        keir starmer| -2.758029035011003|         43|\n",
      "|202101|     nicola sturgeon|-2.6692311220935414|         42|\n",
      "|202101|        matt hancock| -2.502976170182228|         40|\n",
      "|202101|          mike pence|-3.3520076255767774|         39|\n",
      "|202101|        nancy pelosi| -4.087905851694254|         39|\n",
      "|202101|     yoweri museveni| -2.655150863631018|         29|\n",
      "|202101|      alexei navalny| -7.707979738712311|         28|\n",
      "|202101|           bobi wine|-2.5747633311483593|         27|\n",
      "|202101|    gavin williamson| -2.545038571724525|         26|\n",
      "|202101|      vladimir putin| -4.616929333943587|         26|\n",
      "|202101|       arlene foster|-1.0733574080467223|         25|\n",
      "|202101|       nadhim zahawi|-1.5964474827051163|         24|\n",
      "|202101|         priti patel| -4.045144123956561|         24|\n",
      "|202101|         los angeles|-1.0561693026260897|         22|\n",
      "+------+--------------------+-------------------+-----------+\n",
      "only showing top 20 rows\n",
      "\n"
     ]
    },
    {
     "name": "stderr",
     "output_type": "stream",
     "text": [
      "                                                                                \r"
     ]
    }
   ],
   "source": [
    "df_persons2 = df_persons.groupBy(agg_time,'person').agg(f.mean('tone'), f.count('person').alias('Nb_articles'))\n",
    "df_persons2.sort(col(agg_time).asc() ,col('Nb_articles').desc()).show()"
   ]
  },
  {
   "cell_type": "code",
   "execution_count": 38,
   "id": "1c11bbde",
   "metadata": {},
   "outputs": [
    {
     "name": "stderr",
     "output_type": "stream",
     "text": [
      "[Stage 43:>                                                         (0 + 1) / 1]\r"
     ]
    },
    {
     "name": "stdout",
     "output_type": "stream",
     "text": [
      "+------+--------------------+-------------------+-----------+\n",
      "| month|            location|          avg(tone)|Nb_articles|\n",
      "+------+--------------------+-------------------+-----------+\n",
      "|202101|      United Kingdom|-1.9477234688805944|        729|\n",
      "|202101|no location(s) me...|-2.0936765571247857|        265|\n",
      "|202101|Northern Ireland,...|-1.9367275341483188|        242|\n",
      "|202101|London, London, C...| -2.199785586956626|        241|\n",
      "|202101|             British|-1.6999345754121624|        215|\n",
      "|202101|            American|-1.8023199673127575|        194|\n",
      "|202101|            Scotland|-2.2107794845008595|        187|\n",
      "|202101|             America|-2.1627598826397847|        181|\n",
      "|202101|               China|-2.0731837457993576|        171|\n",
      "|202101|Washington, Washi...| -2.894411571648897|        149|\n",
      "|202101|       United States|-2.0492125431804555|        115|\n",
      "|202101|White House, Dist...|-2.6253882733819722|        111|\n",
      "|202101|               India|-1.7879758395116638|        108|\n",
      "|202101|              France|-2.4106632159003674|        106|\n",
      "|202101|             Nigeria|-1.8926754956392897|         97|\n",
      "|202101|           Australia| -2.706005246937275|         95|\n",
      "|202101|             Chinese|-2.4232378071075993|         95|\n",
      "|202101|             Germany|-2.7674188258186465|         93|\n",
      "|202101|             Britain|-1.3312639691975228|         86|\n",
      "|202101|              French|-1.4293511741491685|         83|\n",
      "+------+--------------------+-------------------+-----------+\n",
      "only showing top 20 rows\n",
      "\n"
     ]
    },
    {
     "name": "stderr",
     "output_type": "stream",
     "text": [
      "                                                                                \r"
     ]
    }
   ],
   "source": [
    "df_locations2 = df_locations.groupBy(agg_time,'location').agg(f.mean('tone'), f.count('location').alias('Nb_articles'))\n",
    "df_locations2.sort(col(agg_time).asc() ,col('Nb_articles').desc()).show()"
   ]
  },
  {
   "cell_type": "markdown",
   "id": "7c5bbdbd",
   "metadata": {},
   "source": [
    "### Requête N°4\n",
    "### Etudiez l’évolution des relations entre deux pays (specifies en paramètre) au cours de l’année. Vous pouvez vous baser sur la langue de l’article, le ton moyen des articles, les themes plus souvent citées, les personalités ou tout element qui vous semble pertinent\n"
   ]
  },
  {
   "cell_type": "code",
   "execution_count": 39,
   "id": "5796de53",
   "metadata": {},
   "outputs": [
    {
     "name": "stdout",
     "output_type": "stream",
     "text": [
      "FR\n",
      "CH\n"
     ]
    }
   ],
   "source": [
    "Country_1 = 'France'\n",
    "country_1=df_country_code[df_country_code['Name']==Country_1]['FIPS 10-4'].values[0]\n",
    "print(country_1)\n",
    "\n",
    "Country_2 = 'China'\n",
    "country_2=df_country_code[df_country_code['Name']==Country_2]['FIPS 10-4'].values[0]\n",
    "print(country_2)"
   ]
  },
  {
   "cell_type": "code",
   "execution_count": 40,
   "id": "e8ce08f6",
   "metadata": {},
   "outputs": [
    {
     "name": "stderr",
     "output_type": "stream",
     "text": [
      "[Stage 45:=========================================>            (153 + 8) / 200]\r"
     ]
    },
    {
     "name": "stdout",
     "output_type": "stream",
     "text": [
      "+--------+---------+-------------------+\n",
      "|     day|Nb_Events|          Tone_Mean|\n",
      "+--------+---------+-------------------+\n",
      "|20110429|        1|-0.9124087691307068|\n",
      "|20200102|        1| 2.2346367835998535|\n",
      "|20200107|        1| 3.3057851791381836|\n",
      "|20200117|        1| 3.4120733737945557|\n",
      "|20200120|        1| -4.258943557739258|\n",
      "|20200122|        3|-1.2817181050777435|\n",
      "|20200213|        1| 1.4758497476577759|\n",
      "|20200218|        1| 1.0781670808792114|\n",
      "|20200220|        1|                0.0|\n",
      "|20200307|        1|-3.1396126747131348|\n",
      "|20200308|        2|-3.2213603258132935|\n",
      "|20200311|        1|-4.6728973388671875|\n",
      "|20200323|        1| -5.761316776275635|\n",
      "|20200404|        1| -2.826855182647705|\n",
      "|20200405|        1| -3.995157480239868|\n",
      "|20200409|        1|-0.6888633966445923|\n",
      "|20200413|        1|-5.6129984855651855|\n",
      "|20200419|        1| 1.5193370580673218|\n",
      "|20200420|        2|  3.332739233970642|\n",
      "|20200423|        1|-0.4073319733142853|\n",
      "+--------+---------+-------------------+\n",
      "only showing top 20 rows\n",
      "\n"
     ]
    },
    {
     "name": "stderr",
     "output_type": "stream",
     "text": [
      "                                                                                \r"
     ]
    }
   ],
   "source": [
    "df1 = sqlSparkContext.sql(\"SELECT  DISTINCT sourceurl,day, averagetone FROM mycatalog.gdelt_prod.relationship WHERE actor1_geocountrycode='{}' AND actor2_geocountrycode='{}'\".format(country_1,country_2))\n",
    "\n",
    "df2 = sqlSparkContext.sql(\"SELECT  DISTINCT sourceurl,day, averagetone FROM mycatalog.gdelt_prod.relationship WHERE actor1_geocountrycode='{}' AND actor2_geocountrycode='{}'\".format(country_2,country_1))\n",
    "\n",
    "df_all = df1.union(df2)\n",
    "\n",
    "df_all.createOrReplaceTempView(\"table1\")\n",
    "df_final = sqlSparkContext.sql(\"SELECT day, COUNT (DISTINCT sourceurl) AS Nb_Events, AVG(averagetone) AS Tone_Mean FROM (table1) GROUP BY day ORDER BY day ASC\")\n",
    "df_final.show()\n"
   ]
  },
  {
   "cell_type": "code",
   "execution_count": 41,
   "id": "77faf125",
   "metadata": {},
   "outputs": [
    {
     "name": "stderr",
     "output_type": "stream",
     "text": [
      "                                                                                \r"
     ]
    }
   ],
   "source": [
    "dfpx = df_final.toPandas()\n",
    "dfpx['day']= pd.to_datetime(dfpx['day'],format='%Y%m%d')\n",
    "dfpx.sort_values(by='day',ascending=True,inplace = True)"
   ]
  },
  {
   "cell_type": "code",
   "execution_count": 42,
   "id": "830efa78",
   "metadata": {
    "scrolled": false
   },
   "outputs": [
    {
     "data": {
      "application/vnd.plotly.v1+json": {
       "config": {
        "plotlyServerURL": "https://plot.ly"
       },
       "data": [
        {
         "name": "Ton moyen",
         "type": "scatter",
         "x": [
          "2011-04-29T00:00:00",
          "2020-01-02T00:00:00",
          "2020-01-07T00:00:00",
          "2020-01-17T00:00:00",
          "2020-01-20T00:00:00",
          "2020-01-22T00:00:00",
          "2020-02-13T00:00:00",
          "2020-02-18T00:00:00",
          "2020-02-20T00:00:00",
          "2020-03-07T00:00:00",
          "2020-03-08T00:00:00",
          "2020-03-11T00:00:00",
          "2020-03-23T00:00:00",
          "2020-04-04T00:00:00",
          "2020-04-05T00:00:00",
          "2020-04-09T00:00:00",
          "2020-04-13T00:00:00",
          "2020-04-19T00:00:00",
          "2020-04-20T00:00:00",
          "2020-04-23T00:00:00",
          "2020-04-26T00:00:00",
          "2020-05-04T00:00:00",
          "2020-05-05T00:00:00",
          "2020-05-20T00:00:00",
          "2020-06-10T00:00:00",
          "2020-06-19T00:00:00",
          "2020-06-29T00:00:00",
          "2020-06-30T00:00:00",
          "2020-07-03T00:00:00",
          "2020-07-06T00:00:00",
          "2020-07-26T00:00:00",
          "2020-08-13T00:00:00",
          "2020-08-26T00:00:00",
          "2020-09-10T00:00:00",
          "2020-09-16T00:00:00",
          "2020-09-21T00:00:00",
          "2020-09-23T00:00:00",
          "2020-10-01T00:00:00",
          "2020-10-25T00:00:00",
          "2020-10-26T00:00:00",
          "2020-11-08T00:00:00",
          "2020-11-11T00:00:00",
          "2020-11-24T00:00:00",
          "2020-12-01T00:00:00",
          "2020-12-17T00:00:00",
          "2020-12-18T00:00:00",
          "2020-12-26T00:00:00",
          "2020-12-28T00:00:00",
          "2021-01-01T00:00:00",
          "2021-01-02T00:00:00",
          "2021-01-03T00:00:00",
          "2021-01-04T00:00:00",
          "2021-01-05T00:00:00",
          "2021-01-06T00:00:00",
          "2021-01-07T00:00:00",
          "2021-01-08T00:00:00",
          "2021-01-09T00:00:00",
          "2021-01-10T00:00:00",
          "2021-01-11T00:00:00",
          "2021-01-12T00:00:00",
          "2021-01-13T00:00:00",
          "2021-01-14T00:00:00",
          "2021-01-15T00:00:00",
          "2021-01-16T00:00:00",
          "2021-01-17T00:00:00",
          "2021-01-18T00:00:00",
          "2021-01-19T00:00:00",
          "2021-01-20T00:00:00",
          "2021-01-21T00:00:00",
          "2021-01-22T00:00:00",
          "2021-01-23T00:00:00",
          "2021-01-24T00:00:00",
          "2021-01-25T00:00:00",
          "2021-01-26T00:00:00",
          "2021-01-27T00:00:00",
          "2021-01-28T00:00:00",
          "2021-01-29T00:00:00",
          "2021-01-30T00:00:00",
          "2021-01-31T00:00:00",
          "2021-02-01T00:00:00",
          "2021-02-02T00:00:00",
          "2021-02-03T00:00:00",
          "2021-02-04T00:00:00",
          "2021-02-05T00:00:00",
          "2021-02-06T00:00:00",
          "2021-02-07T00:00:00",
          "2021-02-08T00:00:00",
          "2021-02-09T00:00:00",
          "2021-02-10T00:00:00",
          "2021-02-11T00:00:00",
          "2021-02-12T00:00:00",
          "2021-02-13T00:00:00",
          "2021-02-14T00:00:00",
          "2021-02-15T00:00:00",
          "2021-02-16T00:00:00",
          "2021-02-17T00:00:00",
          "2021-02-18T00:00:00",
          "2021-02-19T00:00:00",
          "2021-02-20T00:00:00",
          "2021-02-21T00:00:00",
          "2021-02-22T00:00:00",
          "2021-02-23T00:00:00",
          "2021-02-24T00:00:00",
          "2021-02-25T00:00:00",
          "2021-02-26T00:00:00",
          "2021-02-27T00:00:00",
          "2021-02-28T00:00:00",
          "2021-03-01T00:00:00",
          "2021-03-02T00:00:00",
          "2021-03-03T00:00:00",
          "2021-03-04T00:00:00",
          "2021-03-05T00:00:00",
          "2021-03-06T00:00:00",
          "2021-03-07T00:00:00",
          "2021-03-08T00:00:00",
          "2021-03-09T00:00:00",
          "2021-03-10T00:00:00",
          "2021-03-11T00:00:00",
          "2021-03-12T00:00:00",
          "2021-03-13T00:00:00",
          "2021-03-14T00:00:00",
          "2021-03-15T00:00:00",
          "2021-03-16T00:00:00",
          "2021-03-17T00:00:00",
          "2021-03-18T00:00:00",
          "2021-03-19T00:00:00",
          "2021-03-20T00:00:00",
          "2021-03-21T00:00:00",
          "2021-03-22T00:00:00",
          "2021-03-23T00:00:00",
          "2021-03-24T00:00:00",
          "2021-03-25T00:00:00",
          "2021-03-26T00:00:00",
          "2021-03-27T00:00:00",
          "2021-03-28T00:00:00",
          "2021-03-29T00:00:00",
          "2021-03-30T00:00:00",
          "2021-03-31T00:00:00",
          "2021-04-01T00:00:00",
          "2021-04-02T00:00:00",
          "2021-04-03T00:00:00",
          "2021-04-04T00:00:00",
          "2021-04-05T00:00:00",
          "2021-04-06T00:00:00",
          "2021-04-07T00:00:00",
          "2021-04-08T00:00:00",
          "2021-04-09T00:00:00",
          "2021-04-10T00:00:00",
          "2021-04-11T00:00:00",
          "2021-04-12T00:00:00",
          "2021-04-13T00:00:00",
          "2021-04-14T00:00:00",
          "2021-04-15T00:00:00",
          "2021-04-16T00:00:00",
          "2021-04-17T00:00:00",
          "2021-04-18T00:00:00",
          "2021-04-19T00:00:00",
          "2021-04-20T00:00:00",
          "2021-04-21T00:00:00",
          "2021-04-22T00:00:00",
          "2021-04-23T00:00:00",
          "2021-04-24T00:00:00",
          "2021-04-25T00:00:00",
          "2021-04-26T00:00:00",
          "2021-04-27T00:00:00",
          "2021-04-28T00:00:00",
          "2021-04-29T00:00:00",
          "2021-04-30T00:00:00",
          "2021-05-01T00:00:00",
          "2021-05-02T00:00:00",
          "2021-05-03T00:00:00",
          "2021-05-04T00:00:00",
          "2021-05-05T00:00:00",
          "2021-05-06T00:00:00",
          "2021-05-07T00:00:00",
          "2021-05-08T00:00:00",
          "2021-05-09T00:00:00",
          "2021-05-10T00:00:00",
          "2021-05-11T00:00:00",
          "2021-05-12T00:00:00",
          "2021-05-13T00:00:00",
          "2021-05-14T00:00:00",
          "2021-05-15T00:00:00",
          "2021-05-16T00:00:00",
          "2021-05-17T00:00:00",
          "2021-05-18T00:00:00",
          "2021-05-19T00:00:00",
          "2021-05-20T00:00:00",
          "2021-05-21T00:00:00",
          "2021-05-22T00:00:00",
          "2021-05-23T00:00:00",
          "2021-05-24T00:00:00",
          "2021-05-25T00:00:00",
          "2021-05-26T00:00:00",
          "2021-05-27T00:00:00",
          "2021-05-28T00:00:00",
          "2021-05-31T00:00:00",
          "2021-06-01T00:00:00",
          "2021-06-02T00:00:00",
          "2021-06-03T00:00:00",
          "2021-06-04T00:00:00",
          "2021-06-05T00:00:00",
          "2021-06-06T00:00:00",
          "2021-06-07T00:00:00",
          "2021-06-08T00:00:00",
          "2021-06-09T00:00:00",
          "2021-06-10T00:00:00",
          "2021-06-11T00:00:00",
          "2021-06-12T00:00:00",
          "2021-06-13T00:00:00",
          "2021-06-14T00:00:00",
          "2021-06-15T00:00:00",
          "2021-06-16T00:00:00",
          "2021-06-17T00:00:00",
          "2021-06-18T00:00:00",
          "2021-06-19T00:00:00",
          "2021-06-20T00:00:00",
          "2021-06-21T00:00:00",
          "2021-06-22T00:00:00",
          "2021-06-23T00:00:00",
          "2021-06-24T00:00:00",
          "2021-06-25T00:00:00",
          "2021-06-26T00:00:00",
          "2021-06-27T00:00:00",
          "2021-06-28T00:00:00",
          "2021-06-29T00:00:00",
          "2021-06-30T00:00:00",
          "2021-07-01T00:00:00",
          "2021-07-02T00:00:00",
          "2021-07-03T00:00:00",
          "2021-07-04T00:00:00",
          "2021-07-05T00:00:00",
          "2021-07-06T00:00:00",
          "2021-07-07T00:00:00",
          "2021-07-08T00:00:00",
          "2021-07-09T00:00:00",
          "2021-07-10T00:00:00",
          "2021-07-11T00:00:00",
          "2021-07-12T00:00:00",
          "2021-07-13T00:00:00",
          "2021-07-14T00:00:00",
          "2021-07-15T00:00:00",
          "2021-07-16T00:00:00",
          "2021-07-17T00:00:00",
          "2021-07-18T00:00:00",
          "2021-07-19T00:00:00",
          "2021-07-20T00:00:00",
          "2021-07-21T00:00:00",
          "2021-07-22T00:00:00",
          "2021-07-23T00:00:00",
          "2021-07-24T00:00:00",
          "2021-07-25T00:00:00",
          "2021-07-26T00:00:00",
          "2021-07-27T00:00:00",
          "2021-07-28T00:00:00",
          "2021-07-29T00:00:00",
          "2021-07-30T00:00:00",
          "2021-07-31T00:00:00",
          "2021-08-01T00:00:00",
          "2021-08-02T00:00:00",
          "2021-08-03T00:00:00",
          "2021-08-04T00:00:00",
          "2021-08-05T00:00:00",
          "2021-08-06T00:00:00",
          "2021-08-07T00:00:00",
          "2021-08-08T00:00:00",
          "2021-08-09T00:00:00",
          "2021-08-10T00:00:00",
          "2021-08-11T00:00:00",
          "2021-08-12T00:00:00",
          "2021-08-13T00:00:00",
          "2021-08-14T00:00:00",
          "2021-08-15T00:00:00",
          "2021-08-16T00:00:00",
          "2021-08-17T00:00:00",
          "2021-08-18T00:00:00",
          "2021-08-19T00:00:00",
          "2021-08-20T00:00:00",
          "2021-08-21T00:00:00",
          "2021-08-22T00:00:00",
          "2021-08-23T00:00:00",
          "2021-08-24T00:00:00",
          "2021-08-25T00:00:00",
          "2021-08-26T00:00:00",
          "2021-08-27T00:00:00",
          "2021-08-28T00:00:00",
          "2021-08-29T00:00:00",
          "2021-08-30T00:00:00",
          "2021-08-31T00:00:00",
          "2021-09-01T00:00:00",
          "2021-09-02T00:00:00",
          "2021-09-03T00:00:00",
          "2021-09-04T00:00:00",
          "2021-09-05T00:00:00",
          "2021-09-06T00:00:00",
          "2021-09-07T00:00:00",
          "2021-09-08T00:00:00",
          "2021-09-09T00:00:00",
          "2021-09-10T00:00:00",
          "2021-09-11T00:00:00",
          "2021-09-12T00:00:00",
          "2021-09-13T00:00:00",
          "2021-09-14T00:00:00",
          "2021-09-15T00:00:00",
          "2021-09-16T00:00:00",
          "2021-09-17T00:00:00",
          "2021-09-18T00:00:00",
          "2021-09-19T00:00:00",
          "2021-09-20T00:00:00",
          "2021-09-21T00:00:00",
          "2021-09-22T00:00:00",
          "2021-09-23T00:00:00",
          "2021-09-24T00:00:00",
          "2021-09-25T00:00:00",
          "2021-09-26T00:00:00",
          "2021-09-27T00:00:00",
          "2021-09-28T00:00:00",
          "2021-09-29T00:00:00",
          "2021-09-30T00:00:00",
          "2021-10-01T00:00:00",
          "2021-10-02T00:00:00",
          "2021-10-03T00:00:00",
          "2021-10-04T00:00:00",
          "2021-10-05T00:00:00",
          "2021-10-06T00:00:00",
          "2021-10-07T00:00:00",
          "2021-10-08T00:00:00",
          "2021-10-09T00:00:00",
          "2021-10-10T00:00:00",
          "2021-10-11T00:00:00",
          "2021-10-12T00:00:00",
          "2021-10-13T00:00:00",
          "2021-10-14T00:00:00",
          "2021-10-15T00:00:00",
          "2021-10-16T00:00:00",
          "2021-10-17T00:00:00",
          "2021-10-18T00:00:00",
          "2021-10-19T00:00:00",
          "2021-10-20T00:00:00",
          "2021-10-21T00:00:00",
          "2021-10-22T00:00:00",
          "2021-10-23T00:00:00",
          "2021-10-24T00:00:00",
          "2021-10-25T00:00:00",
          "2021-10-26T00:00:00",
          "2021-10-27T00:00:00",
          "2021-10-28T00:00:00",
          "2021-10-29T00:00:00",
          "2021-10-30T00:00:00",
          "2021-10-31T00:00:00",
          "2021-11-01T00:00:00",
          "2021-11-02T00:00:00",
          "2021-11-03T00:00:00",
          "2021-11-04T00:00:00",
          "2021-11-05T00:00:00",
          "2021-11-06T00:00:00",
          "2021-11-07T00:00:00",
          "2021-11-08T00:00:00",
          "2021-11-09T00:00:00",
          "2021-11-10T00:00:00",
          "2021-11-11T00:00:00",
          "2021-11-12T00:00:00",
          "2021-11-13T00:00:00",
          "2021-11-14T00:00:00",
          "2021-11-15T00:00:00",
          "2021-11-16T00:00:00",
          "2021-11-17T00:00:00",
          "2021-11-18T00:00:00",
          "2021-11-19T00:00:00",
          "2021-11-20T00:00:00",
          "2021-11-21T00:00:00",
          "2021-11-22T00:00:00",
          "2021-11-23T00:00:00",
          "2021-11-24T00:00:00",
          "2021-11-25T00:00:00",
          "2021-11-26T00:00:00",
          "2021-11-27T00:00:00",
          "2021-11-28T00:00:00",
          "2021-11-29T00:00:00",
          "2021-11-30T00:00:00",
          "2021-12-01T00:00:00",
          "2021-12-02T00:00:00",
          "2021-12-03T00:00:00",
          "2021-12-04T00:00:00",
          "2021-12-05T00:00:00",
          "2021-12-06T00:00:00",
          "2021-12-07T00:00:00",
          "2021-12-08T00:00:00",
          "2021-12-09T00:00:00",
          "2021-12-10T00:00:00",
          "2021-12-11T00:00:00",
          "2021-12-12T00:00:00",
          "2021-12-13T00:00:00",
          "2021-12-14T00:00:00",
          "2021-12-15T00:00:00",
          "2021-12-16T00:00:00",
          "2021-12-17T00:00:00",
          "2021-12-18T00:00:00",
          "2021-12-19T00:00:00",
          "2021-12-20T00:00:00",
          "2021-12-21T00:00:00",
          "2021-12-22T00:00:00",
          "2021-12-23T00:00:00",
          "2021-12-24T00:00:00",
          "2021-12-25T00:00:00",
          "2021-12-26T00:00:00",
          "2021-12-27T00:00:00",
          "2021-12-28T00:00:00",
          "2021-12-29T00:00:00",
          "2021-12-30T00:00:00",
          "2021-12-31T00:00:00",
          "2022-01-01T00:00:00",
          "2022-01-02T00:00:00",
          "2022-01-03T00:00:00",
          "2022-01-04T00:00:00",
          "2022-01-05T00:00:00",
          "2022-01-06T00:00:00",
          "2022-01-07T00:00:00",
          "2022-01-08T00:00:00",
          "2022-01-09T00:00:00",
          "2022-01-10T00:00:00",
          "2022-01-11T00:00:00",
          "2022-01-12T00:00:00",
          "2022-01-13T00:00:00",
          "2022-01-14T00:00:00",
          "2022-01-15T00:00:00",
          "2022-01-17T00:00:00",
          "2022-01-18T00:00:00",
          "2022-01-19T00:00:00",
          "2022-01-20T00:00:00",
          "2022-01-21T00:00:00",
          "2022-01-22T00:00:00",
          "2022-01-23T00:00:00",
          "2022-01-24T00:00:00",
          "2022-01-25T00:00:00",
          "2022-01-26T00:00:00",
          "2022-01-27T00:00:00",
          "2022-01-28T00:00:00",
          "2022-01-29T00:00:00",
          "2022-01-30T00:00:00",
          "2022-01-31T00:00:00",
          "2022-02-01T00:00:00",
          "2022-02-02T00:00:00",
          "2022-02-03T00:00:00",
          "2022-02-04T00:00:00",
          "2022-02-05T00:00:00",
          "2022-02-06T00:00:00",
          "2022-02-07T00:00:00",
          "2022-02-08T00:00:00",
          "2022-02-09T00:00:00",
          "2022-02-10T00:00:00",
          "2022-02-11T00:00:00"
         ],
         "xaxis": "x",
         "y": [
          -0.9124087691307068,
          2.2346367835998535,
          3.3057851791381836,
          3.4120733737945557,
          -4.258943557739258,
          -1.2817181050777435,
          1.4758497476577759,
          1.0781670808792114,
          0,
          -3.1396126747131348,
          -3.2213603258132935,
          -4.6728973388671875,
          -5.761316776275635,
          -2.826855182647705,
          -3.995157480239868,
          -0.6888633966445923,
          -5.6129984855651855,
          1.5193370580673218,
          3.332739233970642,
          -0.4073319733142853,
          6.289308071136475,
          -3.473945379257202,
          -3.7227213382720947,
          0.5044136047363281,
          -4.804953972498576,
          -4.129337549209595,
          -0.685001810391744,
          1.3157894611358643,
          1.306532621383667,
          -0.12610340118408203,
          0,
          -3.6885244846343994,
          -1.2975778579711914,
          -3.240975022315979,
          1.6641452312469482,
          -2.3006134033203125,
          -0.9737827777862549,
          -1.2975778579711914,
          3.422053337097168,
          4.081632614135742,
          -1.4534883499145508,
          -0.923787534236908,
          0.7645260095596313,
          -0.5567928552627563,
          -6.278027057647705,
          -0.24740228056907654,
          -1.6136919260025024,
          1.8518518209457397,
          -2.0073599338531496,
          -2.2079913477102915,
          -2.1488390266895294,
          -0.689615594347318,
          -0.4434022804101308,
          -0.5916715138836911,
          -0.478915480815846,
          -0.39021233372066333,
          -1.9597394656051288,
          -2.292787805199623,
          -0.28914872489192267,
          -0.34323085979981854,
          -1.5192120305516503,
          -2.30721961076443,
          -1.558752809700213,
          -5.251504460970561,
          -2.6307290481484453,
          -2.6994531854987143,
          -0.46716925288949696,
          -1.0105072532011115,
          -0.7164520877930853,
          -1.7695103694092145,
          -3.3766052987840443,
          1.4945034310221672,
          -0.635672659923633,
          -0.316688597202301,
          -1.4409385076884567,
          -1.8431773563226064,
          -0.3235064923763275,
          -1.250245886189597,
          -4.365018890454219,
          -2.8126460595263376,
          -1.9733863387789046,
          -1.841206395626068,
          -1.5835845255189471,
          -0.3342359205087026,
          -0.8751566588878632,
          1.65687367100926,
          -1.7277447551488876,
          -0.5087425869244796,
          -1.1543582916259765,
          -0.291382260620594,
          -1.20027437210083,
          0.12541300058364868,
          1.3054862128836768,
          -1.9970353444417317,
          -1.1231884583830833,
          -1.437923408471621,
          -1.9060176956026178,
          -1.1556367589270367,
          -1.3256904272472156,
          -2.7021437684694924,
          -1.4420900428667665,
          -1.4198885946111246,
          -2.471532968374399,
          -1.6415976001457735,
          1.8941352596649756,
          -2.4944221121924266,
          -0.7317024916410446,
          -1.694636344909668,
          -0.6601758119650185,
          -1.583149971564611,
          -1.82847740650177,
          -1.3812222957611084,
          -1.3887853374083836,
          -0.9249344944953919,
          -2.300951673704035,
          -1.2838177219033242,
          -1.0676679172936607,
          -1.1859291458831114,
          -0.9620366469025612,
          -1.63150188097587,
          -1.1181450348633986,
          -1.615133390824,
          -1.7238471742187227,
          -2.9190751731395723,
          -2.28862605582584,
          -2.2191027127779446,
          0.8560956716537476,
          -0.9210356920957565,
          -2.7653332458514917,
          -4.8587512034995886,
          -3.86516698126523,
          -3.3683358543951596,
          -3.263626775145531,
          -2.4554032620630766,
          -2.794241636991501,
          -2.2317282394929365,
          -2.0005703498335445,
          -2.8022773374210703,
          0.10912462472915649,
          -0.21541315969079733,
          -1.6372372669833046,
          -1.8522511595173885,
          -2.054102129879452,
          -1.446885322079514,
          -1.4970484789340728,
          -0.5442492688695589,
          -1.3151435596602303,
          -2.7217329214600956,
          -2.3924662972751416,
          -2.448382160880349,
          -0.9381391257047653,
          -0.8277920199477155,
          -1.5631641281975641,
          -0.23868184959566272,
          -0.3386453467030679,
          -1.1340920590819457,
          -0.783739733876604,
          0.3668245194213731,
          0.723886251449585,
          -0.06113381301229064,
          -0.48319220542907715,
          -0.3979328183287924,
          -0.5493062394005912,
          -0.6209703125059605,
          -1.3523402882033382,
          -0.5068546278136117,
          -1.1149916865608909,
          -0.2124016396701336,
          0.03358142716544015,
          0.03556638956069946,
          -0.35872619260441174,
          0.12188850622624159,
          -1.2026060935523775,
          -2.376522274244399,
          -0.8995877247432182,
          0.7290999275735683,
          -0.36134474724531174,
          -0.7625324368476868,
          -0.2919083535671234,
          -2.032246830207961,
          -0.7653260648250579,
          -0.0675534497607838,
          -2.270653357108434,
          -0.951104115162577,
          -1.81201285454962,
          -2.482579921300595,
          -1.3971384148157777,
          -1.513886057668262,
          -0.11038692792256673,
          0.5206115990877151,
          -1.9446330219507217,
          -0.03325037161509196,
          -0.8584573450295822,
          -1.944359832576343,
          -0.5604415583610535,
          -1.4996094528366537,
          -0.4956253568331401,
          -0.21964590797821681,
          -1.9801625281572341,
          -1.8133277757601305,
          -2.6592457727952437,
          -1.0682077656189601,
          -2.286790370941162,
          -2.021544540921847,
          -2.185959041118622,
          -1.873916214162653,
          -1.5482147250856673,
          -1.1183600378663916,
          -1.430749948322773,
          -0.6081704742142132,
          -1.4521948642590468,
          -1.6183857706121423,
          -1.7943372847260655,
          -1.3636700630187988,
          -0.6655049288974089,
          -1.6137760914862156,
          -1.8679419998769407,
          0.028069141320884228,
          -0.2700798511505127,
          -2.291736975312233,
          -2.1121359297207425,
          -1.1394388296387412,
          -7.434944152832031,
          -1.7127779722213745,
          -1.497721791267395,
          -0.4706240991751353,
          -2.0159269246188076,
          -0.9422079244007667,
          -3.423401971658071,
          -3.8107820630073546,
          -3.4222660064697266,
          -1.020271748304367,
          -0.12570371627807617,
          -0.16683853268623353,
          -0.6491637017045703,
          -2.360134756565094,
          -1.3167006969451904,
          -2.3383369922637938,
          0.09329224716533314,
          -0.1741948366165161,
          -1.4398117119615728,
          -1.8614515960216522,
          -0.9532757970419797,
          -1.3490415784445675,
          -0.8922010704874992,
          -0.446291704972585,
          -1.0766988471150398,
          1.0899702448111315,
          -2.288362978534265,
          -0.6012694438298544,
          -0.8652385643550328,
          -1.380463343645845,
          -0.5693781044748094,
          -1.5856833457946777,
          -2.6539475123087564,
          -3.342302083969116,
          -3.3257465759913125,
          -3.39342086315155,
          0.566585381825765,
          -0.18084043622016907,
          -2.0067209131442585,
          -4.152303854624431,
          0.0002433881163597107,
          -2.3408855199813843,
          -3.3925934731960297,
          0.5930561621983846,
          -2.2155965209007262,
          -0.45592803188732695,
          -3.3739044533835516,
          -0.3284281864762306,
          -3.2243895173072814,
          -5.384236097335815,
          -6.151529908180237,
          -3.6574430108070373,
          -1.7105987209540148,
          0.6280519792011806,
          -1.4390203058719635,
          -4.498402366414666,
          -4.87062406539917,
          -0.782210111618042,
          -2.765672271901911,
          0.16115927696228027,
          -0.8641189734141032,
          0.10466962059338887,
          -2.513757219681373,
          -3.2884803414344788,
          1.0411974589029949,
          -0.816891481479009,
          -1.3318664762708876,
          -1.3424791325541103,
          -1.2962840689967077,
          -0.17441193262736002,
          -0.40039397682994604,
          -1.2883921027183534,
          -2.0560412385634015,
          -2.4883765266276896,
          -0.398050919175148,
          -0.004913960893948873,
          -0.6192518124977747,
          -2.9329413771629333,
          1.110236942768097,
          1.8943453073501586,
          -1.227130992071969,
          -0.8229008714358012,
          -1.031398633122444,
          -1.778081177955582,
          -1.1784354286889236,
          -1.0617543544620276,
          -1.791822646079319,
          -1.6849510225334339,
          -0.8290335649429862,
          -1.2285464016157528,
          -0.8692471221798942,
          -2.4986388362371006,
          -0.5525417812168598,
          -0.10207188487052918,
          -0.7230769991874695,
          -1.2763175893397558,
          -2.8330907856716827,
          -1.3050336412647192,
          -2.9853686653077602,
          -1.512272441671008,
          -1.2728329037918764,
          -0.9236650619241926,
          -1.742532909593799,
          -1.293468066352479,
          -1.534466506242752,
          -0.49160235203229463,
          -2.1034284915242876,
          -1.889373791217804,
          -0.8636477116276237,
          -1.3508499041199684,
          -1.683777918710428,
          -0.24927394837141037,
          -1.1793957352638245,
          -1.505796856350369,
          -0.07219564417997996,
          -2.040870103985071,
          -1.639774357730692,
          0.6254405021667481,
          -3.0007172087828318,
          -3.507707113569433,
          -0.9944968581199646,
          -1.7677806054844576,
          0.1796133694825349,
          0.08001492704663958,
          -0.9420301322467052,
          -0.5120103569701314,
          -0.5130224403213052,
          -0.19972636688638618,
          -0.35891749754999624,
          -0.008475885767003765,
          -1.420723656700416,
          -0.03130037690463819,
          -1.591894754105144,
          -0.930479782819748,
          -0.9274448156356812,
          -1.1086837282547584,
          -2.2633390970528127,
          0.2630853548094078,
          0.6297996290798845,
          -1.1184372425079345,
          -1.961565911769867,
          -0.8332831859588623,
          -3.6071215718984604,
          0.6452246494591236,
          -0.23002068485532487,
          -1.4970561280846595,
          -2.574101540777418,
          -0.6136596997578939,
          -2.1834665807810696,
          -1.4751135824869077,
          -1.097224947479036,
          -2.895579607486725,
          -3.0059359216171764,
          -2.1558104008436203,
          -4.144806702931722,
          -1.390203400204579,
          -0.8602544356275488,
          -0.1410465617146757,
          -0.5740141233672267,
          -1.3213059540305818,
          -1.1237342645724615,
          -0.5079404597099011,
          -2.138549281018121,
          -1.152586679905653,
          -1.1960938572883606,
          -0.3594703691847184,
          -2.0132409185171127,
          -0.6289172917604446,
          -1.35743405520916,
          -1.5280075318673079,
          -0.7107315719127655,
          -1.5695331807319934,
          -1.2032734022328728,
          -0.26448487100147067,
          -0.855077306429545,
          0.7514635364214579,
          -1.1483542621135712,
          -1.6358913566384996,
          -0.8462278842926025,
          -2.444384288787842,
          -0.37245686650276183,
          0.5775752880356528,
          -0.1924668401479721,
          -2.5630806045872823,
          -1.6775615990161896,
          -1.9931965497407047,
          -1.9273223241170248,
          -1.5019138971964519,
          -1.8413931926091511,
          -0.2763323187828064,
          -4.40865961710612,
          -1.05453472584486,
          -2.198737221386503,
          -0.934760183095932,
          -1.1674799248576164,
          -0.0025400381821852466,
          -1.4044661292662988,
          -3.568319320678711,
          -0.40556120446750094,
          -2.5016777515411377,
          -0.8629255774948332,
          0.6864851851548467,
          1.1273854206646643,
          -1.9418595404852004,
          -1.9206659208450998,
          -2.0586114078760147,
          -1.5860829681158066,
          -3.403502213840301,
          -3.3719940169437512,
          -2.0027130941549935,
          2.108501502445766,
          -0.6996113649672933,
          -0.7260480097361973,
          -1.3278686593879352,
          -2.0075101740658283,
          -0.4185122980011834,
          -1.4236234843730926,
          -0.3270821988582611,
          -1.765491631898013,
          -2.051316887140274,
          -1.8766187578439713,
          1.5863234177231789,
          -2.9640685490199496,
          -0.8342912942171097,
          0.7948213249444962,
          -0.8269409843617015,
          -2.127630973027812,
          -0.4410617676648227,
          0.20127148353136504,
          -0.03692110379536947
         ],
         "yaxis": "y"
        },
        {
         "name": "Nombre d'articles",
         "type": "bar",
         "x": [
          "2011-04-29T00:00:00",
          "2020-01-02T00:00:00",
          "2020-01-07T00:00:00",
          "2020-01-17T00:00:00",
          "2020-01-20T00:00:00",
          "2020-01-22T00:00:00",
          "2020-02-13T00:00:00",
          "2020-02-18T00:00:00",
          "2020-02-20T00:00:00",
          "2020-03-07T00:00:00",
          "2020-03-08T00:00:00",
          "2020-03-11T00:00:00",
          "2020-03-23T00:00:00",
          "2020-04-04T00:00:00",
          "2020-04-05T00:00:00",
          "2020-04-09T00:00:00",
          "2020-04-13T00:00:00",
          "2020-04-19T00:00:00",
          "2020-04-20T00:00:00",
          "2020-04-23T00:00:00",
          "2020-04-26T00:00:00",
          "2020-05-04T00:00:00",
          "2020-05-05T00:00:00",
          "2020-05-20T00:00:00",
          "2020-06-10T00:00:00",
          "2020-06-19T00:00:00",
          "2020-06-29T00:00:00",
          "2020-06-30T00:00:00",
          "2020-07-03T00:00:00",
          "2020-07-06T00:00:00",
          "2020-07-26T00:00:00",
          "2020-08-13T00:00:00",
          "2020-08-26T00:00:00",
          "2020-09-10T00:00:00",
          "2020-09-16T00:00:00",
          "2020-09-21T00:00:00",
          "2020-09-23T00:00:00",
          "2020-10-01T00:00:00",
          "2020-10-25T00:00:00",
          "2020-10-26T00:00:00",
          "2020-11-08T00:00:00",
          "2020-11-11T00:00:00",
          "2020-11-24T00:00:00",
          "2020-12-01T00:00:00",
          "2020-12-17T00:00:00",
          "2020-12-18T00:00:00",
          "2020-12-26T00:00:00",
          "2020-12-28T00:00:00",
          "2021-01-01T00:00:00",
          "2021-01-02T00:00:00",
          "2021-01-03T00:00:00",
          "2021-01-04T00:00:00",
          "2021-01-05T00:00:00",
          "2021-01-06T00:00:00",
          "2021-01-07T00:00:00",
          "2021-01-08T00:00:00",
          "2021-01-09T00:00:00",
          "2021-01-10T00:00:00",
          "2021-01-11T00:00:00",
          "2021-01-12T00:00:00",
          "2021-01-13T00:00:00",
          "2021-01-14T00:00:00",
          "2021-01-15T00:00:00",
          "2021-01-16T00:00:00",
          "2021-01-17T00:00:00",
          "2021-01-18T00:00:00",
          "2021-01-19T00:00:00",
          "2021-01-20T00:00:00",
          "2021-01-21T00:00:00",
          "2021-01-22T00:00:00",
          "2021-01-23T00:00:00",
          "2021-01-24T00:00:00",
          "2021-01-25T00:00:00",
          "2021-01-26T00:00:00",
          "2021-01-27T00:00:00",
          "2021-01-28T00:00:00",
          "2021-01-29T00:00:00",
          "2021-01-30T00:00:00",
          "2021-01-31T00:00:00",
          "2021-02-01T00:00:00",
          "2021-02-02T00:00:00",
          "2021-02-03T00:00:00",
          "2021-02-04T00:00:00",
          "2021-02-05T00:00:00",
          "2021-02-06T00:00:00",
          "2021-02-07T00:00:00",
          "2021-02-08T00:00:00",
          "2021-02-09T00:00:00",
          "2021-02-10T00:00:00",
          "2021-02-11T00:00:00",
          "2021-02-12T00:00:00",
          "2021-02-13T00:00:00",
          "2021-02-14T00:00:00",
          "2021-02-15T00:00:00",
          "2021-02-16T00:00:00",
          "2021-02-17T00:00:00",
          "2021-02-18T00:00:00",
          "2021-02-19T00:00:00",
          "2021-02-20T00:00:00",
          "2021-02-21T00:00:00",
          "2021-02-22T00:00:00",
          "2021-02-23T00:00:00",
          "2021-02-24T00:00:00",
          "2021-02-25T00:00:00",
          "2021-02-26T00:00:00",
          "2021-02-27T00:00:00",
          "2021-02-28T00:00:00",
          "2021-03-01T00:00:00",
          "2021-03-02T00:00:00",
          "2021-03-03T00:00:00",
          "2021-03-04T00:00:00",
          "2021-03-05T00:00:00",
          "2021-03-06T00:00:00",
          "2021-03-07T00:00:00",
          "2021-03-08T00:00:00",
          "2021-03-09T00:00:00",
          "2021-03-10T00:00:00",
          "2021-03-11T00:00:00",
          "2021-03-12T00:00:00",
          "2021-03-13T00:00:00",
          "2021-03-14T00:00:00",
          "2021-03-15T00:00:00",
          "2021-03-16T00:00:00",
          "2021-03-17T00:00:00",
          "2021-03-18T00:00:00",
          "2021-03-19T00:00:00",
          "2021-03-20T00:00:00",
          "2021-03-21T00:00:00",
          "2021-03-22T00:00:00",
          "2021-03-23T00:00:00",
          "2021-03-24T00:00:00",
          "2021-03-25T00:00:00",
          "2021-03-26T00:00:00",
          "2021-03-27T00:00:00",
          "2021-03-28T00:00:00",
          "2021-03-29T00:00:00",
          "2021-03-30T00:00:00",
          "2021-03-31T00:00:00",
          "2021-04-01T00:00:00",
          "2021-04-02T00:00:00",
          "2021-04-03T00:00:00",
          "2021-04-04T00:00:00",
          "2021-04-05T00:00:00",
          "2021-04-06T00:00:00",
          "2021-04-07T00:00:00",
          "2021-04-08T00:00:00",
          "2021-04-09T00:00:00",
          "2021-04-10T00:00:00",
          "2021-04-11T00:00:00",
          "2021-04-12T00:00:00",
          "2021-04-13T00:00:00",
          "2021-04-14T00:00:00",
          "2021-04-15T00:00:00",
          "2021-04-16T00:00:00",
          "2021-04-17T00:00:00",
          "2021-04-18T00:00:00",
          "2021-04-19T00:00:00",
          "2021-04-20T00:00:00",
          "2021-04-21T00:00:00",
          "2021-04-22T00:00:00",
          "2021-04-23T00:00:00",
          "2021-04-24T00:00:00",
          "2021-04-25T00:00:00",
          "2021-04-26T00:00:00",
          "2021-04-27T00:00:00",
          "2021-04-28T00:00:00",
          "2021-04-29T00:00:00",
          "2021-04-30T00:00:00",
          "2021-05-01T00:00:00",
          "2021-05-02T00:00:00",
          "2021-05-03T00:00:00",
          "2021-05-04T00:00:00",
          "2021-05-05T00:00:00",
          "2021-05-06T00:00:00",
          "2021-05-07T00:00:00",
          "2021-05-08T00:00:00",
          "2021-05-09T00:00:00",
          "2021-05-10T00:00:00",
          "2021-05-11T00:00:00",
          "2021-05-12T00:00:00",
          "2021-05-13T00:00:00",
          "2021-05-14T00:00:00",
          "2021-05-15T00:00:00",
          "2021-05-16T00:00:00",
          "2021-05-17T00:00:00",
          "2021-05-18T00:00:00",
          "2021-05-19T00:00:00",
          "2021-05-20T00:00:00",
          "2021-05-21T00:00:00",
          "2021-05-22T00:00:00",
          "2021-05-23T00:00:00",
          "2021-05-24T00:00:00",
          "2021-05-25T00:00:00",
          "2021-05-26T00:00:00",
          "2021-05-27T00:00:00",
          "2021-05-28T00:00:00",
          "2021-05-31T00:00:00",
          "2021-06-01T00:00:00",
          "2021-06-02T00:00:00",
          "2021-06-03T00:00:00",
          "2021-06-04T00:00:00",
          "2021-06-05T00:00:00",
          "2021-06-06T00:00:00",
          "2021-06-07T00:00:00",
          "2021-06-08T00:00:00",
          "2021-06-09T00:00:00",
          "2021-06-10T00:00:00",
          "2021-06-11T00:00:00",
          "2021-06-12T00:00:00",
          "2021-06-13T00:00:00",
          "2021-06-14T00:00:00",
          "2021-06-15T00:00:00",
          "2021-06-16T00:00:00",
          "2021-06-17T00:00:00",
          "2021-06-18T00:00:00",
          "2021-06-19T00:00:00",
          "2021-06-20T00:00:00",
          "2021-06-21T00:00:00",
          "2021-06-22T00:00:00",
          "2021-06-23T00:00:00",
          "2021-06-24T00:00:00",
          "2021-06-25T00:00:00",
          "2021-06-26T00:00:00",
          "2021-06-27T00:00:00",
          "2021-06-28T00:00:00",
          "2021-06-29T00:00:00",
          "2021-06-30T00:00:00",
          "2021-07-01T00:00:00",
          "2021-07-02T00:00:00",
          "2021-07-03T00:00:00",
          "2021-07-04T00:00:00",
          "2021-07-05T00:00:00",
          "2021-07-06T00:00:00",
          "2021-07-07T00:00:00",
          "2021-07-08T00:00:00",
          "2021-07-09T00:00:00",
          "2021-07-10T00:00:00",
          "2021-07-11T00:00:00",
          "2021-07-12T00:00:00",
          "2021-07-13T00:00:00",
          "2021-07-14T00:00:00",
          "2021-07-15T00:00:00",
          "2021-07-16T00:00:00",
          "2021-07-17T00:00:00",
          "2021-07-18T00:00:00",
          "2021-07-19T00:00:00",
          "2021-07-20T00:00:00",
          "2021-07-21T00:00:00",
          "2021-07-22T00:00:00",
          "2021-07-23T00:00:00",
          "2021-07-24T00:00:00",
          "2021-07-25T00:00:00",
          "2021-07-26T00:00:00",
          "2021-07-27T00:00:00",
          "2021-07-28T00:00:00",
          "2021-07-29T00:00:00",
          "2021-07-30T00:00:00",
          "2021-07-31T00:00:00",
          "2021-08-01T00:00:00",
          "2021-08-02T00:00:00",
          "2021-08-03T00:00:00",
          "2021-08-04T00:00:00",
          "2021-08-05T00:00:00",
          "2021-08-06T00:00:00",
          "2021-08-07T00:00:00",
          "2021-08-08T00:00:00",
          "2021-08-09T00:00:00",
          "2021-08-10T00:00:00",
          "2021-08-11T00:00:00",
          "2021-08-12T00:00:00",
          "2021-08-13T00:00:00",
          "2021-08-14T00:00:00",
          "2021-08-15T00:00:00",
          "2021-08-16T00:00:00",
          "2021-08-17T00:00:00",
          "2021-08-18T00:00:00",
          "2021-08-19T00:00:00",
          "2021-08-20T00:00:00",
          "2021-08-21T00:00:00",
          "2021-08-22T00:00:00",
          "2021-08-23T00:00:00",
          "2021-08-24T00:00:00",
          "2021-08-25T00:00:00",
          "2021-08-26T00:00:00",
          "2021-08-27T00:00:00",
          "2021-08-28T00:00:00",
          "2021-08-29T00:00:00",
          "2021-08-30T00:00:00",
          "2021-08-31T00:00:00",
          "2021-09-01T00:00:00",
          "2021-09-02T00:00:00",
          "2021-09-03T00:00:00",
          "2021-09-04T00:00:00",
          "2021-09-05T00:00:00",
          "2021-09-06T00:00:00",
          "2021-09-07T00:00:00",
          "2021-09-08T00:00:00",
          "2021-09-09T00:00:00",
          "2021-09-10T00:00:00",
          "2021-09-11T00:00:00",
          "2021-09-12T00:00:00",
          "2021-09-13T00:00:00",
          "2021-09-14T00:00:00",
          "2021-09-15T00:00:00",
          "2021-09-16T00:00:00",
          "2021-09-17T00:00:00",
          "2021-09-18T00:00:00",
          "2021-09-19T00:00:00",
          "2021-09-20T00:00:00",
          "2021-09-21T00:00:00",
          "2021-09-22T00:00:00",
          "2021-09-23T00:00:00",
          "2021-09-24T00:00:00",
          "2021-09-25T00:00:00",
          "2021-09-26T00:00:00",
          "2021-09-27T00:00:00",
          "2021-09-28T00:00:00",
          "2021-09-29T00:00:00",
          "2021-09-30T00:00:00",
          "2021-10-01T00:00:00",
          "2021-10-02T00:00:00",
          "2021-10-03T00:00:00",
          "2021-10-04T00:00:00",
          "2021-10-05T00:00:00",
          "2021-10-06T00:00:00",
          "2021-10-07T00:00:00",
          "2021-10-08T00:00:00",
          "2021-10-09T00:00:00",
          "2021-10-10T00:00:00",
          "2021-10-11T00:00:00",
          "2021-10-12T00:00:00",
          "2021-10-13T00:00:00",
          "2021-10-14T00:00:00",
          "2021-10-15T00:00:00",
          "2021-10-16T00:00:00",
          "2021-10-17T00:00:00",
          "2021-10-18T00:00:00",
          "2021-10-19T00:00:00",
          "2021-10-20T00:00:00",
          "2021-10-21T00:00:00",
          "2021-10-22T00:00:00",
          "2021-10-23T00:00:00",
          "2021-10-24T00:00:00",
          "2021-10-25T00:00:00",
          "2021-10-26T00:00:00",
          "2021-10-27T00:00:00",
          "2021-10-28T00:00:00",
          "2021-10-29T00:00:00",
          "2021-10-30T00:00:00",
          "2021-10-31T00:00:00",
          "2021-11-01T00:00:00",
          "2021-11-02T00:00:00",
          "2021-11-03T00:00:00",
          "2021-11-04T00:00:00",
          "2021-11-05T00:00:00",
          "2021-11-06T00:00:00",
          "2021-11-07T00:00:00",
          "2021-11-08T00:00:00",
          "2021-11-09T00:00:00",
          "2021-11-10T00:00:00",
          "2021-11-11T00:00:00",
          "2021-11-12T00:00:00",
          "2021-11-13T00:00:00",
          "2021-11-14T00:00:00",
          "2021-11-15T00:00:00",
          "2021-11-16T00:00:00",
          "2021-11-17T00:00:00",
          "2021-11-18T00:00:00",
          "2021-11-19T00:00:00",
          "2021-11-20T00:00:00",
          "2021-11-21T00:00:00",
          "2021-11-22T00:00:00",
          "2021-11-23T00:00:00",
          "2021-11-24T00:00:00",
          "2021-11-25T00:00:00",
          "2021-11-26T00:00:00",
          "2021-11-27T00:00:00",
          "2021-11-28T00:00:00",
          "2021-11-29T00:00:00",
          "2021-11-30T00:00:00",
          "2021-12-01T00:00:00",
          "2021-12-02T00:00:00",
          "2021-12-03T00:00:00",
          "2021-12-04T00:00:00",
          "2021-12-05T00:00:00",
          "2021-12-06T00:00:00",
          "2021-12-07T00:00:00",
          "2021-12-08T00:00:00",
          "2021-12-09T00:00:00",
          "2021-12-10T00:00:00",
          "2021-12-11T00:00:00",
          "2021-12-12T00:00:00",
          "2021-12-13T00:00:00",
          "2021-12-14T00:00:00",
          "2021-12-15T00:00:00",
          "2021-12-16T00:00:00",
          "2021-12-17T00:00:00",
          "2021-12-18T00:00:00",
          "2021-12-19T00:00:00",
          "2021-12-20T00:00:00",
          "2021-12-21T00:00:00",
          "2021-12-22T00:00:00",
          "2021-12-23T00:00:00",
          "2021-12-24T00:00:00",
          "2021-12-25T00:00:00",
          "2021-12-26T00:00:00",
          "2021-12-27T00:00:00",
          "2021-12-28T00:00:00",
          "2021-12-29T00:00:00",
          "2021-12-30T00:00:00",
          "2021-12-31T00:00:00",
          "2022-01-01T00:00:00",
          "2022-01-02T00:00:00",
          "2022-01-03T00:00:00",
          "2022-01-04T00:00:00",
          "2022-01-05T00:00:00",
          "2022-01-06T00:00:00",
          "2022-01-07T00:00:00",
          "2022-01-08T00:00:00",
          "2022-01-09T00:00:00",
          "2022-01-10T00:00:00",
          "2022-01-11T00:00:00",
          "2022-01-12T00:00:00",
          "2022-01-13T00:00:00",
          "2022-01-14T00:00:00",
          "2022-01-15T00:00:00",
          "2022-01-17T00:00:00",
          "2022-01-18T00:00:00",
          "2022-01-19T00:00:00",
          "2022-01-20T00:00:00",
          "2022-01-21T00:00:00",
          "2022-01-22T00:00:00",
          "2022-01-23T00:00:00",
          "2022-01-24T00:00:00",
          "2022-01-25T00:00:00",
          "2022-01-26T00:00:00",
          "2022-01-27T00:00:00",
          "2022-01-28T00:00:00",
          "2022-01-29T00:00:00",
          "2022-01-30T00:00:00",
          "2022-01-31T00:00:00",
          "2022-02-01T00:00:00",
          "2022-02-02T00:00:00",
          "2022-02-03T00:00:00",
          "2022-02-04T00:00:00",
          "2022-02-05T00:00:00",
          "2022-02-06T00:00:00",
          "2022-02-07T00:00:00",
          "2022-02-08T00:00:00",
          "2022-02-09T00:00:00",
          "2022-02-10T00:00:00",
          "2022-02-11T00:00:00"
         ],
         "xaxis": "x",
         "y": [
          1,
          1,
          1,
          1,
          1,
          3,
          1,
          1,
          1,
          1,
          2,
          1,
          1,
          1,
          1,
          1,
          1,
          1,
          2,
          1,
          1,
          1,
          1,
          1,
          2,
          2,
          2,
          1,
          1,
          1,
          1,
          1,
          1,
          2,
          1,
          1,
          1,
          1,
          1,
          1,
          1,
          1,
          1,
          1,
          1,
          1,
          1,
          1,
          6,
          10,
          6,
          11,
          16,
          15,
          15,
          16,
          8,
          5,
          16,
          15,
          16,
          10,
          15,
          5,
          14,
          15,
          17,
          21,
          16,
          15,
          7,
          11,
          10,
          10,
          24,
          13,
          22,
          5,
          10,
          15,
          15,
          10,
          15,
          12,
          9,
          12,
          8,
          22,
          9,
          7,
          10,
          2,
          10,
          2,
          9,
          10,
          14,
          25,
          11,
          6,
          12,
          17,
          9,
          17,
          10,
          6,
          10,
          16,
          13,
          13,
          10,
          8,
          4,
          16,
          13,
          15,
          12,
          13,
          11,
          9,
          8,
          10,
          15,
          11,
          16,
          12,
          7,
          4,
          27,
          38,
          37,
          19,
          13,
          13,
          10,
          9,
          13,
          10,
          17,
          35,
          19,
          12,
          15,
          21,
          24,
          9,
          27,
          12,
          14,
          8,
          18,
          16,
          18,
          26,
          19,
          27,
          23,
          20,
          31,
          26,
          17,
          8,
          9,
          19,
          20,
          17,
          7,
          10,
          9,
          5,
          7,
          22,
          13,
          15,
          20,
          12,
          3,
          12,
          16,
          10,
          6,
          7,
          5,
          5,
          11,
          10,
          32,
          18,
          4,
          5,
          5,
          5,
          16,
          21,
          19,
          13,
          8,
          12,
          7,
          7,
          8,
          9,
          1,
          9,
          10,
          17,
          10,
          16,
          20,
          18,
          63,
          32,
          26,
          19,
          12,
          10,
          15,
          11,
          18,
          5,
          8,
          8,
          1,
          5,
          24,
          16,
          17,
          16,
          24,
          10,
          9,
          14,
          18,
          6,
          9,
          7,
          3,
          3,
          8,
          11,
          8,
          8,
          8,
          8,
          6,
          5,
          6,
          10,
          14,
          12,
          10,
          11,
          7,
          10,
          3,
          4,
          9,
          8,
          3,
          17,
          17,
          2,
          2,
          5,
          6,
          5,
          6,
          6,
          7,
          11,
          3,
          2,
          2,
          5,
          9,
          4,
          6,
          5,
          1,
          2,
          6,
          5,
          2,
          5,
          10,
          5,
          2,
          4,
          8,
          13,
          19,
          17,
          10,
          12,
          11,
          13,
          7,
          9,
          12,
          2,
          3,
          4,
          6,
          9,
          35,
          38,
          40,
          29,
          41,
          47,
          50,
          31,
          18,
          10,
          14,
          17,
          21,
          17,
          14,
          13,
          6,
          15,
          12,
          31,
          36,
          35,
          18,
          10,
          5,
          8,
          14,
          12,
          11,
          12,
          4,
          6,
          10,
          6,
          9,
          7,
          12,
          8,
          4,
          12,
          19,
          20,
          26,
          28,
          12,
          19,
          26,
          18,
          24,
          26,
          18,
          14,
          8,
          10,
          16,
          21,
          23,
          25,
          5,
          5,
          6,
          7,
          8,
          15,
          5,
          7,
          8,
          17,
          13,
          17,
          14,
          13,
          4,
          11,
          31,
          34,
          15,
          16,
          18,
          7,
          4,
          6,
          11,
          10,
          12,
          16,
          21,
          13,
          13,
          17,
          13,
          14,
          19,
          12,
          6,
          10,
          2,
          4,
          7,
          6,
          3,
          5,
          11,
          14,
          11,
          11,
          5,
          4,
          2,
          11,
          23,
          12,
          12,
          10,
          8,
          4,
          6,
          2,
          13,
          11,
          20,
          13,
          20,
          15,
          15,
          19,
          26,
          9,
          6,
          15,
          11,
          9,
          14,
          6,
          4,
          4,
          8,
          7,
          6,
          5,
          4,
          4,
          6,
          12,
          12,
          9,
          11,
          3
         ],
         "yaxis": "y2"
        }
       ],
       "layout": {
        "template": {
         "data": {
          "bar": [
           {
            "error_x": {
             "color": "#2a3f5f"
            },
            "error_y": {
             "color": "#2a3f5f"
            },
            "marker": {
             "line": {
              "color": "#E5ECF6",
              "width": 0.5
             },
             "pattern": {
              "fillmode": "overlay",
              "size": 10,
              "solidity": 0.2
             }
            },
            "type": "bar"
           }
          ],
          "barpolar": [
           {
            "marker": {
             "line": {
              "color": "#E5ECF6",
              "width": 0.5
             },
             "pattern": {
              "fillmode": "overlay",
              "size": 10,
              "solidity": 0.2
             }
            },
            "type": "barpolar"
           }
          ],
          "carpet": [
           {
            "aaxis": {
             "endlinecolor": "#2a3f5f",
             "gridcolor": "white",
             "linecolor": "white",
             "minorgridcolor": "white",
             "startlinecolor": "#2a3f5f"
            },
            "baxis": {
             "endlinecolor": "#2a3f5f",
             "gridcolor": "white",
             "linecolor": "white",
             "minorgridcolor": "white",
             "startlinecolor": "#2a3f5f"
            },
            "type": "carpet"
           }
          ],
          "choropleth": [
           {
            "colorbar": {
             "outlinewidth": 0,
             "ticks": ""
            },
            "type": "choropleth"
           }
          ],
          "contour": [
           {
            "colorbar": {
             "outlinewidth": 0,
             "ticks": ""
            },
            "colorscale": [
             [
              0,
              "#0d0887"
             ],
             [
              0.1111111111111111,
              "#46039f"
             ],
             [
              0.2222222222222222,
              "#7201a8"
             ],
             [
              0.3333333333333333,
              "#9c179e"
             ],
             [
              0.4444444444444444,
              "#bd3786"
             ],
             [
              0.5555555555555556,
              "#d8576b"
             ],
             [
              0.6666666666666666,
              "#ed7953"
             ],
             [
              0.7777777777777778,
              "#fb9f3a"
             ],
             [
              0.8888888888888888,
              "#fdca26"
             ],
             [
              1,
              "#f0f921"
             ]
            ],
            "type": "contour"
           }
          ],
          "contourcarpet": [
           {
            "colorbar": {
             "outlinewidth": 0,
             "ticks": ""
            },
            "type": "contourcarpet"
           }
          ],
          "heatmap": [
           {
            "colorbar": {
             "outlinewidth": 0,
             "ticks": ""
            },
            "colorscale": [
             [
              0,
              "#0d0887"
             ],
             [
              0.1111111111111111,
              "#46039f"
             ],
             [
              0.2222222222222222,
              "#7201a8"
             ],
             [
              0.3333333333333333,
              "#9c179e"
             ],
             [
              0.4444444444444444,
              "#bd3786"
             ],
             [
              0.5555555555555556,
              "#d8576b"
             ],
             [
              0.6666666666666666,
              "#ed7953"
             ],
             [
              0.7777777777777778,
              "#fb9f3a"
             ],
             [
              0.8888888888888888,
              "#fdca26"
             ],
             [
              1,
              "#f0f921"
             ]
            ],
            "type": "heatmap"
           }
          ],
          "heatmapgl": [
           {
            "colorbar": {
             "outlinewidth": 0,
             "ticks": ""
            },
            "colorscale": [
             [
              0,
              "#0d0887"
             ],
             [
              0.1111111111111111,
              "#46039f"
             ],
             [
              0.2222222222222222,
              "#7201a8"
             ],
             [
              0.3333333333333333,
              "#9c179e"
             ],
             [
              0.4444444444444444,
              "#bd3786"
             ],
             [
              0.5555555555555556,
              "#d8576b"
             ],
             [
              0.6666666666666666,
              "#ed7953"
             ],
             [
              0.7777777777777778,
              "#fb9f3a"
             ],
             [
              0.8888888888888888,
              "#fdca26"
             ],
             [
              1,
              "#f0f921"
             ]
            ],
            "type": "heatmapgl"
           }
          ],
          "histogram": [
           {
            "marker": {
             "pattern": {
              "fillmode": "overlay",
              "size": 10,
              "solidity": 0.2
             }
            },
            "type": "histogram"
           }
          ],
          "histogram2d": [
           {
            "colorbar": {
             "outlinewidth": 0,
             "ticks": ""
            },
            "colorscale": [
             [
              0,
              "#0d0887"
             ],
             [
              0.1111111111111111,
              "#46039f"
             ],
             [
              0.2222222222222222,
              "#7201a8"
             ],
             [
              0.3333333333333333,
              "#9c179e"
             ],
             [
              0.4444444444444444,
              "#bd3786"
             ],
             [
              0.5555555555555556,
              "#d8576b"
             ],
             [
              0.6666666666666666,
              "#ed7953"
             ],
             [
              0.7777777777777778,
              "#fb9f3a"
             ],
             [
              0.8888888888888888,
              "#fdca26"
             ],
             [
              1,
              "#f0f921"
             ]
            ],
            "type": "histogram2d"
           }
          ],
          "histogram2dcontour": [
           {
            "colorbar": {
             "outlinewidth": 0,
             "ticks": ""
            },
            "colorscale": [
             [
              0,
              "#0d0887"
             ],
             [
              0.1111111111111111,
              "#46039f"
             ],
             [
              0.2222222222222222,
              "#7201a8"
             ],
             [
              0.3333333333333333,
              "#9c179e"
             ],
             [
              0.4444444444444444,
              "#bd3786"
             ],
             [
              0.5555555555555556,
              "#d8576b"
             ],
             [
              0.6666666666666666,
              "#ed7953"
             ],
             [
              0.7777777777777778,
              "#fb9f3a"
             ],
             [
              0.8888888888888888,
              "#fdca26"
             ],
             [
              1,
              "#f0f921"
             ]
            ],
            "type": "histogram2dcontour"
           }
          ],
          "mesh3d": [
           {
            "colorbar": {
             "outlinewidth": 0,
             "ticks": ""
            },
            "type": "mesh3d"
           }
          ],
          "parcoords": [
           {
            "line": {
             "colorbar": {
              "outlinewidth": 0,
              "ticks": ""
             }
            },
            "type": "parcoords"
           }
          ],
          "pie": [
           {
            "automargin": true,
            "type": "pie"
           }
          ],
          "scatter": [
           {
            "marker": {
             "colorbar": {
              "outlinewidth": 0,
              "ticks": ""
             }
            },
            "type": "scatter"
           }
          ],
          "scatter3d": [
           {
            "line": {
             "colorbar": {
              "outlinewidth": 0,
              "ticks": ""
             }
            },
            "marker": {
             "colorbar": {
              "outlinewidth": 0,
              "ticks": ""
             }
            },
            "type": "scatter3d"
           }
          ],
          "scattercarpet": [
           {
            "marker": {
             "colorbar": {
              "outlinewidth": 0,
              "ticks": ""
             }
            },
            "type": "scattercarpet"
           }
          ],
          "scattergeo": [
           {
            "marker": {
             "colorbar": {
              "outlinewidth": 0,
              "ticks": ""
             }
            },
            "type": "scattergeo"
           }
          ],
          "scattergl": [
           {
            "marker": {
             "colorbar": {
              "outlinewidth": 0,
              "ticks": ""
             }
            },
            "type": "scattergl"
           }
          ],
          "scattermapbox": [
           {
            "marker": {
             "colorbar": {
              "outlinewidth": 0,
              "ticks": ""
             }
            },
            "type": "scattermapbox"
           }
          ],
          "scatterpolar": [
           {
            "marker": {
             "colorbar": {
              "outlinewidth": 0,
              "ticks": ""
             }
            },
            "type": "scatterpolar"
           }
          ],
          "scatterpolargl": [
           {
            "marker": {
             "colorbar": {
              "outlinewidth": 0,
              "ticks": ""
             }
            },
            "type": "scatterpolargl"
           }
          ],
          "scatterternary": [
           {
            "marker": {
             "colorbar": {
              "outlinewidth": 0,
              "ticks": ""
             }
            },
            "type": "scatterternary"
           }
          ],
          "surface": [
           {
            "colorbar": {
             "outlinewidth": 0,
             "ticks": ""
            },
            "colorscale": [
             [
              0,
              "#0d0887"
             ],
             [
              0.1111111111111111,
              "#46039f"
             ],
             [
              0.2222222222222222,
              "#7201a8"
             ],
             [
              0.3333333333333333,
              "#9c179e"
             ],
             [
              0.4444444444444444,
              "#bd3786"
             ],
             [
              0.5555555555555556,
              "#d8576b"
             ],
             [
              0.6666666666666666,
              "#ed7953"
             ],
             [
              0.7777777777777778,
              "#fb9f3a"
             ],
             [
              0.8888888888888888,
              "#fdca26"
             ],
             [
              1,
              "#f0f921"
             ]
            ],
            "type": "surface"
           }
          ],
          "table": [
           {
            "cells": {
             "fill": {
              "color": "#EBF0F8"
             },
             "line": {
              "color": "white"
             }
            },
            "header": {
             "fill": {
              "color": "#C8D4E3"
             },
             "line": {
              "color": "white"
             }
            },
            "type": "table"
           }
          ]
         },
         "layout": {
          "annotationdefaults": {
           "arrowcolor": "#2a3f5f",
           "arrowhead": 0,
           "arrowwidth": 1
          },
          "autotypenumbers": "strict",
          "coloraxis": {
           "colorbar": {
            "outlinewidth": 0,
            "ticks": ""
           }
          },
          "colorscale": {
           "diverging": [
            [
             0,
             "#8e0152"
            ],
            [
             0.1,
             "#c51b7d"
            ],
            [
             0.2,
             "#de77ae"
            ],
            [
             0.3,
             "#f1b6da"
            ],
            [
             0.4,
             "#fde0ef"
            ],
            [
             0.5,
             "#f7f7f7"
            ],
            [
             0.6,
             "#e6f5d0"
            ],
            [
             0.7,
             "#b8e186"
            ],
            [
             0.8,
             "#7fbc41"
            ],
            [
             0.9,
             "#4d9221"
            ],
            [
             1,
             "#276419"
            ]
           ],
           "sequential": [
            [
             0,
             "#0d0887"
            ],
            [
             0.1111111111111111,
             "#46039f"
            ],
            [
             0.2222222222222222,
             "#7201a8"
            ],
            [
             0.3333333333333333,
             "#9c179e"
            ],
            [
             0.4444444444444444,
             "#bd3786"
            ],
            [
             0.5555555555555556,
             "#d8576b"
            ],
            [
             0.6666666666666666,
             "#ed7953"
            ],
            [
             0.7777777777777778,
             "#fb9f3a"
            ],
            [
             0.8888888888888888,
             "#fdca26"
            ],
            [
             1,
             "#f0f921"
            ]
           ],
           "sequentialminus": [
            [
             0,
             "#0d0887"
            ],
            [
             0.1111111111111111,
             "#46039f"
            ],
            [
             0.2222222222222222,
             "#7201a8"
            ],
            [
             0.3333333333333333,
             "#9c179e"
            ],
            [
             0.4444444444444444,
             "#bd3786"
            ],
            [
             0.5555555555555556,
             "#d8576b"
            ],
            [
             0.6666666666666666,
             "#ed7953"
            ],
            [
             0.7777777777777778,
             "#fb9f3a"
            ],
            [
             0.8888888888888888,
             "#fdca26"
            ],
            [
             1,
             "#f0f921"
            ]
           ]
          },
          "colorway": [
           "#636efa",
           "#EF553B",
           "#00cc96",
           "#ab63fa",
           "#FFA15A",
           "#19d3f3",
           "#FF6692",
           "#B6E880",
           "#FF97FF",
           "#FECB52"
          ],
          "font": {
           "color": "#2a3f5f"
          },
          "geo": {
           "bgcolor": "white",
           "lakecolor": "white",
           "landcolor": "#E5ECF6",
           "showlakes": true,
           "showland": true,
           "subunitcolor": "white"
          },
          "hoverlabel": {
           "align": "left"
          },
          "hovermode": "closest",
          "mapbox": {
           "style": "light"
          },
          "paper_bgcolor": "white",
          "plot_bgcolor": "#E5ECF6",
          "polar": {
           "angularaxis": {
            "gridcolor": "white",
            "linecolor": "white",
            "ticks": ""
           },
           "bgcolor": "#E5ECF6",
           "radialaxis": {
            "gridcolor": "white",
            "linecolor": "white",
            "ticks": ""
           }
          },
          "scene": {
           "xaxis": {
            "backgroundcolor": "#E5ECF6",
            "gridcolor": "white",
            "gridwidth": 2,
            "linecolor": "white",
            "showbackground": true,
            "ticks": "",
            "zerolinecolor": "white"
           },
           "yaxis": {
            "backgroundcolor": "#E5ECF6",
            "gridcolor": "white",
            "gridwidth": 2,
            "linecolor": "white",
            "showbackground": true,
            "ticks": "",
            "zerolinecolor": "white"
           },
           "zaxis": {
            "backgroundcolor": "#E5ECF6",
            "gridcolor": "white",
            "gridwidth": 2,
            "linecolor": "white",
            "showbackground": true,
            "ticks": "",
            "zerolinecolor": "white"
           }
          },
          "shapedefaults": {
           "line": {
            "color": "#2a3f5f"
           }
          },
          "ternary": {
           "aaxis": {
            "gridcolor": "white",
            "linecolor": "white",
            "ticks": ""
           },
           "baxis": {
            "gridcolor": "white",
            "linecolor": "white",
            "ticks": ""
           },
           "bgcolor": "#E5ECF6",
           "caxis": {
            "gridcolor": "white",
            "linecolor": "white",
            "ticks": ""
           }
          },
          "title": {
           "x": 0.05
          },
          "xaxis": {
           "automargin": true,
           "gridcolor": "white",
           "linecolor": "white",
           "ticks": "",
           "title": {
            "standoff": 15
           },
           "zerolinecolor": "white",
           "zerolinewidth": 2
          },
          "yaxis": {
           "automargin": true,
           "gridcolor": "white",
           "linecolor": "white",
           "ticks": "",
           "title": {
            "standoff": 15
           },
           "zerolinecolor": "white",
           "zerolinewidth": 2
          }
         }
        },
        "title": {
         "text": "Évolution des relations entre France et China au cours de l’année"
        },
        "xaxis": {
         "anchor": "y",
         "domain": [
          0,
          0.94
         ],
         "rangeslider": {
          "visible": true
         },
         "title": {
          "text": "Dates"
         }
        },
        "yaxis": {
         "anchor": "x",
         "domain": [
          0,
          1
         ],
         "title": {
          "text": "Ton moyen"
         }
        },
        "yaxis2": {
         "anchor": "x",
         "overlaying": "y",
         "side": "right",
         "title": {
          "text": "Nombre d'articles"
         }
        }
       }
      },
      "text/html": [
       "<div>                            <div id=\"1015b27a-8bb4-4967-8ed6-c2c4ea088392\" class=\"plotly-graph-div\" style=\"height:525px; width:100%;\"></div>            <script type=\"text/javascript\">                require([\"plotly\"], function(Plotly) {                    window.PLOTLYENV=window.PLOTLYENV || {};                                    if (document.getElementById(\"1015b27a-8bb4-4967-8ed6-c2c4ea088392\")) {                    Plotly.newPlot(                        \"1015b27a-8bb4-4967-8ed6-c2c4ea088392\",                        [{\"name\":\"Ton moyen\",\"x\":[\"2011-04-29T00:00:00\",\"2020-01-02T00:00:00\",\"2020-01-07T00:00:00\",\"2020-01-17T00:00:00\",\"2020-01-20T00:00:00\",\"2020-01-22T00:00:00\",\"2020-02-13T00:00:00\",\"2020-02-18T00:00:00\",\"2020-02-20T00:00:00\",\"2020-03-07T00:00:00\",\"2020-03-08T00:00:00\",\"2020-03-11T00:00:00\",\"2020-03-23T00:00:00\",\"2020-04-04T00:00:00\",\"2020-04-05T00:00:00\",\"2020-04-09T00:00:00\",\"2020-04-13T00:00:00\",\"2020-04-19T00:00:00\",\"2020-04-20T00:00:00\",\"2020-04-23T00:00:00\",\"2020-04-26T00:00:00\",\"2020-05-04T00:00:00\",\"2020-05-05T00:00:00\",\"2020-05-20T00:00:00\",\"2020-06-10T00:00:00\",\"2020-06-19T00:00:00\",\"2020-06-29T00:00:00\",\"2020-06-30T00:00:00\",\"2020-07-03T00:00:00\",\"2020-07-06T00:00:00\",\"2020-07-26T00:00:00\",\"2020-08-13T00:00:00\",\"2020-08-26T00:00:00\",\"2020-09-10T00:00:00\",\"2020-09-16T00:00:00\",\"2020-09-21T00:00:00\",\"2020-09-23T00:00:00\",\"2020-10-01T00:00:00\",\"2020-10-25T00:00:00\",\"2020-10-26T00:00:00\",\"2020-11-08T00:00:00\",\"2020-11-11T00:00:00\",\"2020-11-24T00:00:00\",\"2020-12-01T00:00:00\",\"2020-12-17T00:00:00\",\"2020-12-18T00:00:00\",\"2020-12-26T00:00:00\",\"2020-12-28T00:00:00\",\"2021-01-01T00:00:00\",\"2021-01-02T00:00:00\",\"2021-01-03T00:00:00\",\"2021-01-04T00:00:00\",\"2021-01-05T00:00:00\",\"2021-01-06T00:00:00\",\"2021-01-07T00:00:00\",\"2021-01-08T00:00:00\",\"2021-01-09T00:00:00\",\"2021-01-10T00:00:00\",\"2021-01-11T00:00:00\",\"2021-01-12T00:00:00\",\"2021-01-13T00:00:00\",\"2021-01-14T00:00:00\",\"2021-01-15T00:00:00\",\"2021-01-16T00:00:00\",\"2021-01-17T00:00:00\",\"2021-01-18T00:00:00\",\"2021-01-19T00:00:00\",\"2021-01-20T00:00:00\",\"2021-01-21T00:00:00\",\"2021-01-22T00:00:00\",\"2021-01-23T00:00:00\",\"2021-01-24T00:00:00\",\"2021-01-25T00:00:00\",\"2021-01-26T00:00:00\",\"2021-01-27T00:00:00\",\"2021-01-28T00:00:00\",\"2021-01-29T00:00:00\",\"2021-01-30T00:00:00\",\"2021-01-31T00:00:00\",\"2021-02-01T00:00:00\",\"2021-02-02T00:00:00\",\"2021-02-03T00:00:00\",\"2021-02-04T00:00:00\",\"2021-02-05T00:00:00\",\"2021-02-06T00:00:00\",\"2021-02-07T00:00:00\",\"2021-02-08T00:00:00\",\"2021-02-09T00:00:00\",\"2021-02-10T00:00:00\",\"2021-02-11T00:00:00\",\"2021-02-12T00:00:00\",\"2021-02-13T00:00:00\",\"2021-02-14T00:00:00\",\"2021-02-15T00:00:00\",\"2021-02-16T00:00:00\",\"2021-02-17T00:00:00\",\"2021-02-18T00:00:00\",\"2021-02-19T00:00:00\",\"2021-02-20T00:00:00\",\"2021-02-21T00:00:00\",\"2021-02-22T00:00:00\",\"2021-02-23T00:00:00\",\"2021-02-24T00:00:00\",\"2021-02-25T00:00:00\",\"2021-02-26T00:00:00\",\"2021-02-27T00:00:00\",\"2021-02-28T00:00:00\",\"2021-03-01T00:00:00\",\"2021-03-02T00:00:00\",\"2021-03-03T00:00:00\",\"2021-03-04T00:00:00\",\"2021-03-05T00:00:00\",\"2021-03-06T00:00:00\",\"2021-03-07T00:00:00\",\"2021-03-08T00:00:00\",\"2021-03-09T00:00:00\",\"2021-03-10T00:00:00\",\"2021-03-11T00:00:00\",\"2021-03-12T00:00:00\",\"2021-03-13T00:00:00\",\"2021-03-14T00:00:00\",\"2021-03-15T00:00:00\",\"2021-03-16T00:00:00\",\"2021-03-17T00:00:00\",\"2021-03-18T00:00:00\",\"2021-03-19T00:00:00\",\"2021-03-20T00:00:00\",\"2021-03-21T00:00:00\",\"2021-03-22T00:00:00\",\"2021-03-23T00:00:00\",\"2021-03-24T00:00:00\",\"2021-03-25T00:00:00\",\"2021-03-26T00:00:00\",\"2021-03-27T00:00:00\",\"2021-03-28T00:00:00\",\"2021-03-29T00:00:00\",\"2021-03-30T00:00:00\",\"2021-03-31T00:00:00\",\"2021-04-01T00:00:00\",\"2021-04-02T00:00:00\",\"2021-04-03T00:00:00\",\"2021-04-04T00:00:00\",\"2021-04-05T00:00:00\",\"2021-04-06T00:00:00\",\"2021-04-07T00:00:00\",\"2021-04-08T00:00:00\",\"2021-04-09T00:00:00\",\"2021-04-10T00:00:00\",\"2021-04-11T00:00:00\",\"2021-04-12T00:00:00\",\"2021-04-13T00:00:00\",\"2021-04-14T00:00:00\",\"2021-04-15T00:00:00\",\"2021-04-16T00:00:00\",\"2021-04-17T00:00:00\",\"2021-04-18T00:00:00\",\"2021-04-19T00:00:00\",\"2021-04-20T00:00:00\",\"2021-04-21T00:00:00\",\"2021-04-22T00:00:00\",\"2021-04-23T00:00:00\",\"2021-04-24T00:00:00\",\"2021-04-25T00:00:00\",\"2021-04-26T00:00:00\",\"2021-04-27T00:00:00\",\"2021-04-28T00:00:00\",\"2021-04-29T00:00:00\",\"2021-04-30T00:00:00\",\"2021-05-01T00:00:00\",\"2021-05-02T00:00:00\",\"2021-05-03T00:00:00\",\"2021-05-04T00:00:00\",\"2021-05-05T00:00:00\",\"2021-05-06T00:00:00\",\"2021-05-07T00:00:00\",\"2021-05-08T00:00:00\",\"2021-05-09T00:00:00\",\"2021-05-10T00:00:00\",\"2021-05-11T00:00:00\",\"2021-05-12T00:00:00\",\"2021-05-13T00:00:00\",\"2021-05-14T00:00:00\",\"2021-05-15T00:00:00\",\"2021-05-16T00:00:00\",\"2021-05-17T00:00:00\",\"2021-05-18T00:00:00\",\"2021-05-19T00:00:00\",\"2021-05-20T00:00:00\",\"2021-05-21T00:00:00\",\"2021-05-22T00:00:00\",\"2021-05-23T00:00:00\",\"2021-05-24T00:00:00\",\"2021-05-25T00:00:00\",\"2021-05-26T00:00:00\",\"2021-05-27T00:00:00\",\"2021-05-28T00:00:00\",\"2021-05-31T00:00:00\",\"2021-06-01T00:00:00\",\"2021-06-02T00:00:00\",\"2021-06-03T00:00:00\",\"2021-06-04T00:00:00\",\"2021-06-05T00:00:00\",\"2021-06-06T00:00:00\",\"2021-06-07T00:00:00\",\"2021-06-08T00:00:00\",\"2021-06-09T00:00:00\",\"2021-06-10T00:00:00\",\"2021-06-11T00:00:00\",\"2021-06-12T00:00:00\",\"2021-06-13T00:00:00\",\"2021-06-14T00:00:00\",\"2021-06-15T00:00:00\",\"2021-06-16T00:00:00\",\"2021-06-17T00:00:00\",\"2021-06-18T00:00:00\",\"2021-06-19T00:00:00\",\"2021-06-20T00:00:00\",\"2021-06-21T00:00:00\",\"2021-06-22T00:00:00\",\"2021-06-23T00:00:00\",\"2021-06-24T00:00:00\",\"2021-06-25T00:00:00\",\"2021-06-26T00:00:00\",\"2021-06-27T00:00:00\",\"2021-06-28T00:00:00\",\"2021-06-29T00:00:00\",\"2021-06-30T00:00:00\",\"2021-07-01T00:00:00\",\"2021-07-02T00:00:00\",\"2021-07-03T00:00:00\",\"2021-07-04T00:00:00\",\"2021-07-05T00:00:00\",\"2021-07-06T00:00:00\",\"2021-07-07T00:00:00\",\"2021-07-08T00:00:00\",\"2021-07-09T00:00:00\",\"2021-07-10T00:00:00\",\"2021-07-11T00:00:00\",\"2021-07-12T00:00:00\",\"2021-07-13T00:00:00\",\"2021-07-14T00:00:00\",\"2021-07-15T00:00:00\",\"2021-07-16T00:00:00\",\"2021-07-17T00:00:00\",\"2021-07-18T00:00:00\",\"2021-07-19T00:00:00\",\"2021-07-20T00:00:00\",\"2021-07-21T00:00:00\",\"2021-07-22T00:00:00\",\"2021-07-23T00:00:00\",\"2021-07-24T00:00:00\",\"2021-07-25T00:00:00\",\"2021-07-26T00:00:00\",\"2021-07-27T00:00:00\",\"2021-07-28T00:00:00\",\"2021-07-29T00:00:00\",\"2021-07-30T00:00:00\",\"2021-07-31T00:00:00\",\"2021-08-01T00:00:00\",\"2021-08-02T00:00:00\",\"2021-08-03T00:00:00\",\"2021-08-04T00:00:00\",\"2021-08-05T00:00:00\",\"2021-08-06T00:00:00\",\"2021-08-07T00:00:00\",\"2021-08-08T00:00:00\",\"2021-08-09T00:00:00\",\"2021-08-10T00:00:00\",\"2021-08-11T00:00:00\",\"2021-08-12T00:00:00\",\"2021-08-13T00:00:00\",\"2021-08-14T00:00:00\",\"2021-08-15T00:00:00\",\"2021-08-16T00:00:00\",\"2021-08-17T00:00:00\",\"2021-08-18T00:00:00\",\"2021-08-19T00:00:00\",\"2021-08-20T00:00:00\",\"2021-08-21T00:00:00\",\"2021-08-22T00:00:00\",\"2021-08-23T00:00:00\",\"2021-08-24T00:00:00\",\"2021-08-25T00:00:00\",\"2021-08-26T00:00:00\",\"2021-08-27T00:00:00\",\"2021-08-28T00:00:00\",\"2021-08-29T00:00:00\",\"2021-08-30T00:00:00\",\"2021-08-31T00:00:00\",\"2021-09-01T00:00:00\",\"2021-09-02T00:00:00\",\"2021-09-03T00:00:00\",\"2021-09-04T00:00:00\",\"2021-09-05T00:00:00\",\"2021-09-06T00:00:00\",\"2021-09-07T00:00:00\",\"2021-09-08T00:00:00\",\"2021-09-09T00:00:00\",\"2021-09-10T00:00:00\",\"2021-09-11T00:00:00\",\"2021-09-12T00:00:00\",\"2021-09-13T00:00:00\",\"2021-09-14T00:00:00\",\"2021-09-15T00:00:00\",\"2021-09-16T00:00:00\",\"2021-09-17T00:00:00\",\"2021-09-18T00:00:00\",\"2021-09-19T00:00:00\",\"2021-09-20T00:00:00\",\"2021-09-21T00:00:00\",\"2021-09-22T00:00:00\",\"2021-09-23T00:00:00\",\"2021-09-24T00:00:00\",\"2021-09-25T00:00:00\",\"2021-09-26T00:00:00\",\"2021-09-27T00:00:00\",\"2021-09-28T00:00:00\",\"2021-09-29T00:00:00\",\"2021-09-30T00:00:00\",\"2021-10-01T00:00:00\",\"2021-10-02T00:00:00\",\"2021-10-03T00:00:00\",\"2021-10-04T00:00:00\",\"2021-10-05T00:00:00\",\"2021-10-06T00:00:00\",\"2021-10-07T00:00:00\",\"2021-10-08T00:00:00\",\"2021-10-09T00:00:00\",\"2021-10-10T00:00:00\",\"2021-10-11T00:00:00\",\"2021-10-12T00:00:00\",\"2021-10-13T00:00:00\",\"2021-10-14T00:00:00\",\"2021-10-15T00:00:00\",\"2021-10-16T00:00:00\",\"2021-10-17T00:00:00\",\"2021-10-18T00:00:00\",\"2021-10-19T00:00:00\",\"2021-10-20T00:00:00\",\"2021-10-21T00:00:00\",\"2021-10-22T00:00:00\",\"2021-10-23T00:00:00\",\"2021-10-24T00:00:00\",\"2021-10-25T00:00:00\",\"2021-10-26T00:00:00\",\"2021-10-27T00:00:00\",\"2021-10-28T00:00:00\",\"2021-10-29T00:00:00\",\"2021-10-30T00:00:00\",\"2021-10-31T00:00:00\",\"2021-11-01T00:00:00\",\"2021-11-02T00:00:00\",\"2021-11-03T00:00:00\",\"2021-11-04T00:00:00\",\"2021-11-05T00:00:00\",\"2021-11-06T00:00:00\",\"2021-11-07T00:00:00\",\"2021-11-08T00:00:00\",\"2021-11-09T00:00:00\",\"2021-11-10T00:00:00\",\"2021-11-11T00:00:00\",\"2021-11-12T00:00:00\",\"2021-11-13T00:00:00\",\"2021-11-14T00:00:00\",\"2021-11-15T00:00:00\",\"2021-11-16T00:00:00\",\"2021-11-17T00:00:00\",\"2021-11-18T00:00:00\",\"2021-11-19T00:00:00\",\"2021-11-20T00:00:00\",\"2021-11-21T00:00:00\",\"2021-11-22T00:00:00\",\"2021-11-23T00:00:00\",\"2021-11-24T00:00:00\",\"2021-11-25T00:00:00\",\"2021-11-26T00:00:00\",\"2021-11-27T00:00:00\",\"2021-11-28T00:00:00\",\"2021-11-29T00:00:00\",\"2021-11-30T00:00:00\",\"2021-12-01T00:00:00\",\"2021-12-02T00:00:00\",\"2021-12-03T00:00:00\",\"2021-12-04T00:00:00\",\"2021-12-05T00:00:00\",\"2021-12-06T00:00:00\",\"2021-12-07T00:00:00\",\"2021-12-08T00:00:00\",\"2021-12-09T00:00:00\",\"2021-12-10T00:00:00\",\"2021-12-11T00:00:00\",\"2021-12-12T00:00:00\",\"2021-12-13T00:00:00\",\"2021-12-14T00:00:00\",\"2021-12-15T00:00:00\",\"2021-12-16T00:00:00\",\"2021-12-17T00:00:00\",\"2021-12-18T00:00:00\",\"2021-12-19T00:00:00\",\"2021-12-20T00:00:00\",\"2021-12-21T00:00:00\",\"2021-12-22T00:00:00\",\"2021-12-23T00:00:00\",\"2021-12-24T00:00:00\",\"2021-12-25T00:00:00\",\"2021-12-26T00:00:00\",\"2021-12-27T00:00:00\",\"2021-12-28T00:00:00\",\"2021-12-29T00:00:00\",\"2021-12-30T00:00:00\",\"2021-12-31T00:00:00\",\"2022-01-01T00:00:00\",\"2022-01-02T00:00:00\",\"2022-01-03T00:00:00\",\"2022-01-04T00:00:00\",\"2022-01-05T00:00:00\",\"2022-01-06T00:00:00\",\"2022-01-07T00:00:00\",\"2022-01-08T00:00:00\",\"2022-01-09T00:00:00\",\"2022-01-10T00:00:00\",\"2022-01-11T00:00:00\",\"2022-01-12T00:00:00\",\"2022-01-13T00:00:00\",\"2022-01-14T00:00:00\",\"2022-01-15T00:00:00\",\"2022-01-17T00:00:00\",\"2022-01-18T00:00:00\",\"2022-01-19T00:00:00\",\"2022-01-20T00:00:00\",\"2022-01-21T00:00:00\",\"2022-01-22T00:00:00\",\"2022-01-23T00:00:00\",\"2022-01-24T00:00:00\",\"2022-01-25T00:00:00\",\"2022-01-26T00:00:00\",\"2022-01-27T00:00:00\",\"2022-01-28T00:00:00\",\"2022-01-29T00:00:00\",\"2022-01-30T00:00:00\",\"2022-01-31T00:00:00\",\"2022-02-01T00:00:00\",\"2022-02-02T00:00:00\",\"2022-02-03T00:00:00\",\"2022-02-04T00:00:00\",\"2022-02-05T00:00:00\",\"2022-02-06T00:00:00\",\"2022-02-07T00:00:00\",\"2022-02-08T00:00:00\",\"2022-02-09T00:00:00\",\"2022-02-10T00:00:00\",\"2022-02-11T00:00:00\"],\"y\":[-0.9124087691307068,2.2346367835998535,3.3057851791381836,3.4120733737945557,-4.258943557739258,-1.2817181050777435,1.4758497476577759,1.0781670808792114,0.0,-3.1396126747131348,-3.2213603258132935,-4.6728973388671875,-5.761316776275635,-2.826855182647705,-3.995157480239868,-0.6888633966445923,-5.6129984855651855,1.5193370580673218,3.332739233970642,-0.4073319733142853,6.289308071136475,-3.473945379257202,-3.7227213382720947,0.5044136047363281,-4.804953972498576,-4.129337549209595,-0.685001810391744,1.3157894611358643,1.306532621383667,-0.12610340118408203,0.0,-3.6885244846343994,-1.2975778579711914,-3.240975022315979,1.6641452312469482,-2.3006134033203125,-0.9737827777862549,-1.2975778579711914,3.422053337097168,4.081632614135742,-1.4534883499145508,-0.923787534236908,0.7645260095596313,-0.5567928552627563,-6.278027057647705,-0.24740228056907654,-1.6136919260025024,1.8518518209457397,-2.0073599338531496,-2.2079913477102915,-2.1488390266895294,-0.689615594347318,-0.4434022804101308,-0.5916715138836911,-0.478915480815846,-0.39021233372066333,-1.9597394656051288,-2.292787805199623,-0.28914872489192267,-0.34323085979981854,-1.5192120305516503,-2.30721961076443,-1.558752809700213,-5.251504460970561,-2.6307290481484453,-2.6994531854987143,-0.46716925288949696,-1.0105072532011115,-0.7164520877930853,-1.7695103694092145,-3.3766052987840443,1.4945034310221672,-0.635672659923633,-0.316688597202301,-1.4409385076884567,-1.8431773563226064,-0.3235064923763275,-1.250245886189597,-4.365018890454219,-2.8126460595263376,-1.9733863387789046,-1.841206395626068,-1.5835845255189471,-0.3342359205087026,-0.8751566588878632,1.65687367100926,-1.7277447551488876,-0.5087425869244796,-1.1543582916259765,-0.291382260620594,-1.20027437210083,0.12541300058364868,1.3054862128836768,-1.9970353444417317,-1.1231884583830833,-1.437923408471621,-1.9060176956026178,-1.1556367589270367,-1.3256904272472156,-2.7021437684694924,-1.4420900428667665,-1.4198885946111246,-2.471532968374399,-1.6415976001457735,1.8941352596649756,-2.4944221121924266,-0.7317024916410446,-1.694636344909668,-0.6601758119650185,-1.583149971564611,-1.82847740650177,-1.3812222957611084,-1.3887853374083836,-0.9249344944953919,-2.300951673704035,-1.2838177219033242,-1.0676679172936607,-1.1859291458831114,-0.9620366469025612,-1.63150188097587,-1.1181450348633986,-1.615133390824,-1.7238471742187227,-2.9190751731395723,-2.28862605582584,-2.2191027127779446,0.8560956716537476,-0.9210356920957565,-2.7653332458514917,-4.8587512034995886,-3.86516698126523,-3.3683358543951596,-3.263626775145531,-2.4554032620630766,-2.794241636991501,-2.2317282394929365,-2.0005703498335445,-2.8022773374210703,0.10912462472915649,-0.21541315969079733,-1.6372372669833046,-1.8522511595173885,-2.054102129879452,-1.446885322079514,-1.4970484789340728,-0.5442492688695589,-1.3151435596602303,-2.7217329214600956,-2.3924662972751416,-2.448382160880349,-0.9381391257047653,-0.8277920199477155,-1.5631641281975641,-0.23868184959566272,-0.3386453467030679,-1.1340920590819457,-0.783739733876604,0.3668245194213731,0.723886251449585,-0.06113381301229064,-0.48319220542907715,-0.3979328183287924,-0.5493062394005912,-0.6209703125059605,-1.3523402882033382,-0.5068546278136117,-1.1149916865608909,-0.2124016396701336,0.03358142716544015,0.03556638956069946,-0.35872619260441174,0.12188850622624159,-1.2026060935523775,-2.376522274244399,-0.8995877247432182,0.7290999275735683,-0.36134474724531174,-0.7625324368476868,-0.2919083535671234,-2.032246830207961,-0.7653260648250579,-0.0675534497607838,-2.270653357108434,-0.951104115162577,-1.81201285454962,-2.482579921300595,-1.3971384148157777,-1.513886057668262,-0.11038692792256673,0.5206115990877151,-1.9446330219507217,-0.03325037161509196,-0.8584573450295822,-1.944359832576343,-0.5604415583610535,-1.4996094528366537,-0.4956253568331401,-0.21964590797821681,-1.9801625281572341,-1.8133277757601305,-2.6592457727952437,-1.0682077656189601,-2.286790370941162,-2.021544540921847,-2.185959041118622,-1.873916214162653,-1.5482147250856673,-1.1183600378663916,-1.430749948322773,-0.6081704742142132,-1.4521948642590468,-1.6183857706121423,-1.7943372847260655,-1.3636700630187988,-0.6655049288974089,-1.6137760914862156,-1.8679419998769407,0.028069141320884228,-0.2700798511505127,-2.291736975312233,-2.1121359297207425,-1.1394388296387412,-7.434944152832031,-1.7127779722213745,-1.497721791267395,-0.4706240991751353,-2.0159269246188076,-0.9422079244007667,-3.423401971658071,-3.8107820630073546,-3.4222660064697266,-1.020271748304367,-0.12570371627807617,-0.16683853268623353,-0.6491637017045703,-2.360134756565094,-1.3167006969451904,-2.3383369922637938,0.09329224716533314,-0.1741948366165161,-1.4398117119615728,-1.8614515960216522,-0.9532757970419797,-1.3490415784445675,-0.8922010704874992,-0.446291704972585,-1.0766988471150398,1.0899702448111315,-2.288362978534265,-0.6012694438298544,-0.8652385643550328,-1.380463343645845,-0.5693781044748094,-1.5856833457946777,-2.6539475123087564,-3.342302083969116,-3.3257465759913125,-3.39342086315155,0.566585381825765,-0.18084043622016907,-2.0067209131442585,-4.152303854624431,0.0002433881163597107,-2.3408855199813843,-3.3925934731960297,0.5930561621983846,-2.2155965209007262,-0.45592803188732695,-3.3739044533835516,-0.3284281864762306,-3.2243895173072814,-5.384236097335815,-6.151529908180237,-3.6574430108070373,-1.7105987209540148,0.6280519792011806,-1.4390203058719635,-4.498402366414666,-4.87062406539917,-0.782210111618042,-2.765672271901911,0.16115927696228027,-0.8641189734141032,0.10466962059338887,-2.513757219681373,-3.2884803414344788,1.0411974589029949,-0.816891481479009,-1.3318664762708876,-1.3424791325541103,-1.2962840689967077,-0.17441193262736002,-0.40039397682994604,-1.2883921027183534,-2.0560412385634015,-2.4883765266276896,-0.398050919175148,-0.004913960893948873,-0.6192518124977747,-2.9329413771629333,1.110236942768097,1.8943453073501586,-1.227130992071969,-0.8229008714358012,-1.031398633122444,-1.778081177955582,-1.1784354286889236,-1.0617543544620276,-1.791822646079319,-1.6849510225334339,-0.8290335649429862,-1.2285464016157528,-0.8692471221798942,-2.4986388362371006,-0.5525417812168598,-0.10207188487052918,-0.7230769991874695,-1.2763175893397558,-2.8330907856716827,-1.3050336412647192,-2.9853686653077602,-1.512272441671008,-1.2728329037918764,-0.9236650619241926,-1.742532909593799,-1.293468066352479,-1.534466506242752,-0.49160235203229463,-2.1034284915242876,-1.889373791217804,-0.8636477116276237,-1.3508499041199684,-1.683777918710428,-0.24927394837141037,-1.1793957352638245,-1.505796856350369,-0.07219564417997996,-2.040870103985071,-1.639774357730692,0.6254405021667481,-3.0007172087828318,-3.507707113569433,-0.9944968581199646,-1.7677806054844576,0.1796133694825349,0.08001492704663958,-0.9420301322467052,-0.5120103569701314,-0.5130224403213052,-0.19972636688638618,-0.35891749754999624,-0.008475885767003765,-1.420723656700416,-0.03130037690463819,-1.591894754105144,-0.930479782819748,-0.9274448156356812,-1.1086837282547584,-2.2633390970528127,0.2630853548094078,0.6297996290798845,-1.1184372425079345,-1.961565911769867,-0.8332831859588623,-3.6071215718984604,0.6452246494591236,-0.23002068485532487,-1.4970561280846595,-2.574101540777418,-0.6136596997578939,-2.1834665807810696,-1.4751135824869077,-1.097224947479036,-2.895579607486725,-3.0059359216171764,-2.1558104008436203,-4.144806702931722,-1.390203400204579,-0.8602544356275488,-0.1410465617146757,-0.5740141233672267,-1.3213059540305818,-1.1237342645724615,-0.5079404597099011,-2.138549281018121,-1.152586679905653,-1.1960938572883606,-0.3594703691847184,-2.0132409185171127,-0.6289172917604446,-1.35743405520916,-1.5280075318673079,-0.7107315719127655,-1.5695331807319934,-1.2032734022328728,-0.26448487100147067,-0.855077306429545,0.7514635364214579,-1.1483542621135712,-1.6358913566384996,-0.8462278842926025,-2.444384288787842,-0.37245686650276183,0.5775752880356528,-0.1924668401479721,-2.5630806045872823,-1.6775615990161896,-1.9931965497407047,-1.9273223241170248,-1.5019138971964519,-1.8413931926091511,-0.2763323187828064,-4.40865961710612,-1.05453472584486,-2.198737221386503,-0.934760183095932,-1.1674799248576164,-0.0025400381821852466,-1.4044661292662988,-3.568319320678711,-0.40556120446750094,-2.5016777515411377,-0.8629255774948332,0.6864851851548467,1.1273854206646643,-1.9418595404852004,-1.9206659208450998,-2.0586114078760147,-1.5860829681158066,-3.403502213840301,-3.3719940169437512,-2.0027130941549935,2.108501502445766,-0.6996113649672933,-0.7260480097361973,-1.3278686593879352,-2.0075101740658283,-0.4185122980011834,-1.4236234843730926,-0.3270821988582611,-1.765491631898013,-2.051316887140274,-1.8766187578439713,1.5863234177231789,-2.9640685490199496,-0.8342912942171097,0.7948213249444962,-0.8269409843617015,-2.127630973027812,-0.4410617676648227,0.20127148353136504,-0.03692110379536947],\"type\":\"scatter\",\"xaxis\":\"x\",\"yaxis\":\"y\"},{\"name\":\"Nombre d'articles\",\"x\":[\"2011-04-29T00:00:00\",\"2020-01-02T00:00:00\",\"2020-01-07T00:00:00\",\"2020-01-17T00:00:00\",\"2020-01-20T00:00:00\",\"2020-01-22T00:00:00\",\"2020-02-13T00:00:00\",\"2020-02-18T00:00:00\",\"2020-02-20T00:00:00\",\"2020-03-07T00:00:00\",\"2020-03-08T00:00:00\",\"2020-03-11T00:00:00\",\"2020-03-23T00:00:00\",\"2020-04-04T00:00:00\",\"2020-04-05T00:00:00\",\"2020-04-09T00:00:00\",\"2020-04-13T00:00:00\",\"2020-04-19T00:00:00\",\"2020-04-20T00:00:00\",\"2020-04-23T00:00:00\",\"2020-04-26T00:00:00\",\"2020-05-04T00:00:00\",\"2020-05-05T00:00:00\",\"2020-05-20T00:00:00\",\"2020-06-10T00:00:00\",\"2020-06-19T00:00:00\",\"2020-06-29T00:00:00\",\"2020-06-30T00:00:00\",\"2020-07-03T00:00:00\",\"2020-07-06T00:00:00\",\"2020-07-26T00:00:00\",\"2020-08-13T00:00:00\",\"2020-08-26T00:00:00\",\"2020-09-10T00:00:00\",\"2020-09-16T00:00:00\",\"2020-09-21T00:00:00\",\"2020-09-23T00:00:00\",\"2020-10-01T00:00:00\",\"2020-10-25T00:00:00\",\"2020-10-26T00:00:00\",\"2020-11-08T00:00:00\",\"2020-11-11T00:00:00\",\"2020-11-24T00:00:00\",\"2020-12-01T00:00:00\",\"2020-12-17T00:00:00\",\"2020-12-18T00:00:00\",\"2020-12-26T00:00:00\",\"2020-12-28T00:00:00\",\"2021-01-01T00:00:00\",\"2021-01-02T00:00:00\",\"2021-01-03T00:00:00\",\"2021-01-04T00:00:00\",\"2021-01-05T00:00:00\",\"2021-01-06T00:00:00\",\"2021-01-07T00:00:00\",\"2021-01-08T00:00:00\",\"2021-01-09T00:00:00\",\"2021-01-10T00:00:00\",\"2021-01-11T00:00:00\",\"2021-01-12T00:00:00\",\"2021-01-13T00:00:00\",\"2021-01-14T00:00:00\",\"2021-01-15T00:00:00\",\"2021-01-16T00:00:00\",\"2021-01-17T00:00:00\",\"2021-01-18T00:00:00\",\"2021-01-19T00:00:00\",\"2021-01-20T00:00:00\",\"2021-01-21T00:00:00\",\"2021-01-22T00:00:00\",\"2021-01-23T00:00:00\",\"2021-01-24T00:00:00\",\"2021-01-25T00:00:00\",\"2021-01-26T00:00:00\",\"2021-01-27T00:00:00\",\"2021-01-28T00:00:00\",\"2021-01-29T00:00:00\",\"2021-01-30T00:00:00\",\"2021-01-31T00:00:00\",\"2021-02-01T00:00:00\",\"2021-02-02T00:00:00\",\"2021-02-03T00:00:00\",\"2021-02-04T00:00:00\",\"2021-02-05T00:00:00\",\"2021-02-06T00:00:00\",\"2021-02-07T00:00:00\",\"2021-02-08T00:00:00\",\"2021-02-09T00:00:00\",\"2021-02-10T00:00:00\",\"2021-02-11T00:00:00\",\"2021-02-12T00:00:00\",\"2021-02-13T00:00:00\",\"2021-02-14T00:00:00\",\"2021-02-15T00:00:00\",\"2021-02-16T00:00:00\",\"2021-02-17T00:00:00\",\"2021-02-18T00:00:00\",\"2021-02-19T00:00:00\",\"2021-02-20T00:00:00\",\"2021-02-21T00:00:00\",\"2021-02-22T00:00:00\",\"2021-02-23T00:00:00\",\"2021-02-24T00:00:00\",\"2021-02-25T00:00:00\",\"2021-02-26T00:00:00\",\"2021-02-27T00:00:00\",\"2021-02-28T00:00:00\",\"2021-03-01T00:00:00\",\"2021-03-02T00:00:00\",\"2021-03-03T00:00:00\",\"2021-03-04T00:00:00\",\"2021-03-05T00:00:00\",\"2021-03-06T00:00:00\",\"2021-03-07T00:00:00\",\"2021-03-08T00:00:00\",\"2021-03-09T00:00:00\",\"2021-03-10T00:00:00\",\"2021-03-11T00:00:00\",\"2021-03-12T00:00:00\",\"2021-03-13T00:00:00\",\"2021-03-14T00:00:00\",\"2021-03-15T00:00:00\",\"2021-03-16T00:00:00\",\"2021-03-17T00:00:00\",\"2021-03-18T00:00:00\",\"2021-03-19T00:00:00\",\"2021-03-20T00:00:00\",\"2021-03-21T00:00:00\",\"2021-03-22T00:00:00\",\"2021-03-23T00:00:00\",\"2021-03-24T00:00:00\",\"2021-03-25T00:00:00\",\"2021-03-26T00:00:00\",\"2021-03-27T00:00:00\",\"2021-03-28T00:00:00\",\"2021-03-29T00:00:00\",\"2021-03-30T00:00:00\",\"2021-03-31T00:00:00\",\"2021-04-01T00:00:00\",\"2021-04-02T00:00:00\",\"2021-04-03T00:00:00\",\"2021-04-04T00:00:00\",\"2021-04-05T00:00:00\",\"2021-04-06T00:00:00\",\"2021-04-07T00:00:00\",\"2021-04-08T00:00:00\",\"2021-04-09T00:00:00\",\"2021-04-10T00:00:00\",\"2021-04-11T00:00:00\",\"2021-04-12T00:00:00\",\"2021-04-13T00:00:00\",\"2021-04-14T00:00:00\",\"2021-04-15T00:00:00\",\"2021-04-16T00:00:00\",\"2021-04-17T00:00:00\",\"2021-04-18T00:00:00\",\"2021-04-19T00:00:00\",\"2021-04-20T00:00:00\",\"2021-04-21T00:00:00\",\"2021-04-22T00:00:00\",\"2021-04-23T00:00:00\",\"2021-04-24T00:00:00\",\"2021-04-25T00:00:00\",\"2021-04-26T00:00:00\",\"2021-04-27T00:00:00\",\"2021-04-28T00:00:00\",\"2021-04-29T00:00:00\",\"2021-04-30T00:00:00\",\"2021-05-01T00:00:00\",\"2021-05-02T00:00:00\",\"2021-05-03T00:00:00\",\"2021-05-04T00:00:00\",\"2021-05-05T00:00:00\",\"2021-05-06T00:00:00\",\"2021-05-07T00:00:00\",\"2021-05-08T00:00:00\",\"2021-05-09T00:00:00\",\"2021-05-10T00:00:00\",\"2021-05-11T00:00:00\",\"2021-05-12T00:00:00\",\"2021-05-13T00:00:00\",\"2021-05-14T00:00:00\",\"2021-05-15T00:00:00\",\"2021-05-16T00:00:00\",\"2021-05-17T00:00:00\",\"2021-05-18T00:00:00\",\"2021-05-19T00:00:00\",\"2021-05-20T00:00:00\",\"2021-05-21T00:00:00\",\"2021-05-22T00:00:00\",\"2021-05-23T00:00:00\",\"2021-05-24T00:00:00\",\"2021-05-25T00:00:00\",\"2021-05-26T00:00:00\",\"2021-05-27T00:00:00\",\"2021-05-28T00:00:00\",\"2021-05-31T00:00:00\",\"2021-06-01T00:00:00\",\"2021-06-02T00:00:00\",\"2021-06-03T00:00:00\",\"2021-06-04T00:00:00\",\"2021-06-05T00:00:00\",\"2021-06-06T00:00:00\",\"2021-06-07T00:00:00\",\"2021-06-08T00:00:00\",\"2021-06-09T00:00:00\",\"2021-06-10T00:00:00\",\"2021-06-11T00:00:00\",\"2021-06-12T00:00:00\",\"2021-06-13T00:00:00\",\"2021-06-14T00:00:00\",\"2021-06-15T00:00:00\",\"2021-06-16T00:00:00\",\"2021-06-17T00:00:00\",\"2021-06-18T00:00:00\",\"2021-06-19T00:00:00\",\"2021-06-20T00:00:00\",\"2021-06-21T00:00:00\",\"2021-06-22T00:00:00\",\"2021-06-23T00:00:00\",\"2021-06-24T00:00:00\",\"2021-06-25T00:00:00\",\"2021-06-26T00:00:00\",\"2021-06-27T00:00:00\",\"2021-06-28T00:00:00\",\"2021-06-29T00:00:00\",\"2021-06-30T00:00:00\",\"2021-07-01T00:00:00\",\"2021-07-02T00:00:00\",\"2021-07-03T00:00:00\",\"2021-07-04T00:00:00\",\"2021-07-05T00:00:00\",\"2021-07-06T00:00:00\",\"2021-07-07T00:00:00\",\"2021-07-08T00:00:00\",\"2021-07-09T00:00:00\",\"2021-07-10T00:00:00\",\"2021-07-11T00:00:00\",\"2021-07-12T00:00:00\",\"2021-07-13T00:00:00\",\"2021-07-14T00:00:00\",\"2021-07-15T00:00:00\",\"2021-07-16T00:00:00\",\"2021-07-17T00:00:00\",\"2021-07-18T00:00:00\",\"2021-07-19T00:00:00\",\"2021-07-20T00:00:00\",\"2021-07-21T00:00:00\",\"2021-07-22T00:00:00\",\"2021-07-23T00:00:00\",\"2021-07-24T00:00:00\",\"2021-07-25T00:00:00\",\"2021-07-26T00:00:00\",\"2021-07-27T00:00:00\",\"2021-07-28T00:00:00\",\"2021-07-29T00:00:00\",\"2021-07-30T00:00:00\",\"2021-07-31T00:00:00\",\"2021-08-01T00:00:00\",\"2021-08-02T00:00:00\",\"2021-08-03T00:00:00\",\"2021-08-04T00:00:00\",\"2021-08-05T00:00:00\",\"2021-08-06T00:00:00\",\"2021-08-07T00:00:00\",\"2021-08-08T00:00:00\",\"2021-08-09T00:00:00\",\"2021-08-10T00:00:00\",\"2021-08-11T00:00:00\",\"2021-08-12T00:00:00\",\"2021-08-13T00:00:00\",\"2021-08-14T00:00:00\",\"2021-08-15T00:00:00\",\"2021-08-16T00:00:00\",\"2021-08-17T00:00:00\",\"2021-08-18T00:00:00\",\"2021-08-19T00:00:00\",\"2021-08-20T00:00:00\",\"2021-08-21T00:00:00\",\"2021-08-22T00:00:00\",\"2021-08-23T00:00:00\",\"2021-08-24T00:00:00\",\"2021-08-25T00:00:00\",\"2021-08-26T00:00:00\",\"2021-08-27T00:00:00\",\"2021-08-28T00:00:00\",\"2021-08-29T00:00:00\",\"2021-08-30T00:00:00\",\"2021-08-31T00:00:00\",\"2021-09-01T00:00:00\",\"2021-09-02T00:00:00\",\"2021-09-03T00:00:00\",\"2021-09-04T00:00:00\",\"2021-09-05T00:00:00\",\"2021-09-06T00:00:00\",\"2021-09-07T00:00:00\",\"2021-09-08T00:00:00\",\"2021-09-09T00:00:00\",\"2021-09-10T00:00:00\",\"2021-09-11T00:00:00\",\"2021-09-12T00:00:00\",\"2021-09-13T00:00:00\",\"2021-09-14T00:00:00\",\"2021-09-15T00:00:00\",\"2021-09-16T00:00:00\",\"2021-09-17T00:00:00\",\"2021-09-18T00:00:00\",\"2021-09-19T00:00:00\",\"2021-09-20T00:00:00\",\"2021-09-21T00:00:00\",\"2021-09-22T00:00:00\",\"2021-09-23T00:00:00\",\"2021-09-24T00:00:00\",\"2021-09-25T00:00:00\",\"2021-09-26T00:00:00\",\"2021-09-27T00:00:00\",\"2021-09-28T00:00:00\",\"2021-09-29T00:00:00\",\"2021-09-30T00:00:00\",\"2021-10-01T00:00:00\",\"2021-10-02T00:00:00\",\"2021-10-03T00:00:00\",\"2021-10-04T00:00:00\",\"2021-10-05T00:00:00\",\"2021-10-06T00:00:00\",\"2021-10-07T00:00:00\",\"2021-10-08T00:00:00\",\"2021-10-09T00:00:00\",\"2021-10-10T00:00:00\",\"2021-10-11T00:00:00\",\"2021-10-12T00:00:00\",\"2021-10-13T00:00:00\",\"2021-10-14T00:00:00\",\"2021-10-15T00:00:00\",\"2021-10-16T00:00:00\",\"2021-10-17T00:00:00\",\"2021-10-18T00:00:00\",\"2021-10-19T00:00:00\",\"2021-10-20T00:00:00\",\"2021-10-21T00:00:00\",\"2021-10-22T00:00:00\",\"2021-10-23T00:00:00\",\"2021-10-24T00:00:00\",\"2021-10-25T00:00:00\",\"2021-10-26T00:00:00\",\"2021-10-27T00:00:00\",\"2021-10-28T00:00:00\",\"2021-10-29T00:00:00\",\"2021-10-30T00:00:00\",\"2021-10-31T00:00:00\",\"2021-11-01T00:00:00\",\"2021-11-02T00:00:00\",\"2021-11-03T00:00:00\",\"2021-11-04T00:00:00\",\"2021-11-05T00:00:00\",\"2021-11-06T00:00:00\",\"2021-11-07T00:00:00\",\"2021-11-08T00:00:00\",\"2021-11-09T00:00:00\",\"2021-11-10T00:00:00\",\"2021-11-11T00:00:00\",\"2021-11-12T00:00:00\",\"2021-11-13T00:00:00\",\"2021-11-14T00:00:00\",\"2021-11-15T00:00:00\",\"2021-11-16T00:00:00\",\"2021-11-17T00:00:00\",\"2021-11-18T00:00:00\",\"2021-11-19T00:00:00\",\"2021-11-20T00:00:00\",\"2021-11-21T00:00:00\",\"2021-11-22T00:00:00\",\"2021-11-23T00:00:00\",\"2021-11-24T00:00:00\",\"2021-11-25T00:00:00\",\"2021-11-26T00:00:00\",\"2021-11-27T00:00:00\",\"2021-11-28T00:00:00\",\"2021-11-29T00:00:00\",\"2021-11-30T00:00:00\",\"2021-12-01T00:00:00\",\"2021-12-02T00:00:00\",\"2021-12-03T00:00:00\",\"2021-12-04T00:00:00\",\"2021-12-05T00:00:00\",\"2021-12-06T00:00:00\",\"2021-12-07T00:00:00\",\"2021-12-08T00:00:00\",\"2021-12-09T00:00:00\",\"2021-12-10T00:00:00\",\"2021-12-11T00:00:00\",\"2021-12-12T00:00:00\",\"2021-12-13T00:00:00\",\"2021-12-14T00:00:00\",\"2021-12-15T00:00:00\",\"2021-12-16T00:00:00\",\"2021-12-17T00:00:00\",\"2021-12-18T00:00:00\",\"2021-12-19T00:00:00\",\"2021-12-20T00:00:00\",\"2021-12-21T00:00:00\",\"2021-12-22T00:00:00\",\"2021-12-23T00:00:00\",\"2021-12-24T00:00:00\",\"2021-12-25T00:00:00\",\"2021-12-26T00:00:00\",\"2021-12-27T00:00:00\",\"2021-12-28T00:00:00\",\"2021-12-29T00:00:00\",\"2021-12-30T00:00:00\",\"2021-12-31T00:00:00\",\"2022-01-01T00:00:00\",\"2022-01-02T00:00:00\",\"2022-01-03T00:00:00\",\"2022-01-04T00:00:00\",\"2022-01-05T00:00:00\",\"2022-01-06T00:00:00\",\"2022-01-07T00:00:00\",\"2022-01-08T00:00:00\",\"2022-01-09T00:00:00\",\"2022-01-10T00:00:00\",\"2022-01-11T00:00:00\",\"2022-01-12T00:00:00\",\"2022-01-13T00:00:00\",\"2022-01-14T00:00:00\",\"2022-01-15T00:00:00\",\"2022-01-17T00:00:00\",\"2022-01-18T00:00:00\",\"2022-01-19T00:00:00\",\"2022-01-20T00:00:00\",\"2022-01-21T00:00:00\",\"2022-01-22T00:00:00\",\"2022-01-23T00:00:00\",\"2022-01-24T00:00:00\",\"2022-01-25T00:00:00\",\"2022-01-26T00:00:00\",\"2022-01-27T00:00:00\",\"2022-01-28T00:00:00\",\"2022-01-29T00:00:00\",\"2022-01-30T00:00:00\",\"2022-01-31T00:00:00\",\"2022-02-01T00:00:00\",\"2022-02-02T00:00:00\",\"2022-02-03T00:00:00\",\"2022-02-04T00:00:00\",\"2022-02-05T00:00:00\",\"2022-02-06T00:00:00\",\"2022-02-07T00:00:00\",\"2022-02-08T00:00:00\",\"2022-02-09T00:00:00\",\"2022-02-10T00:00:00\",\"2022-02-11T00:00:00\"],\"y\":[1,1,1,1,1,3,1,1,1,1,2,1,1,1,1,1,1,1,2,1,1,1,1,1,2,2,2,1,1,1,1,1,1,2,1,1,1,1,1,1,1,1,1,1,1,1,1,1,6,10,6,11,16,15,15,16,8,5,16,15,16,10,15,5,14,15,17,21,16,15,7,11,10,10,24,13,22,5,10,15,15,10,15,12,9,12,8,22,9,7,10,2,10,2,9,10,14,25,11,6,12,17,9,17,10,6,10,16,13,13,10,8,4,16,13,15,12,13,11,9,8,10,15,11,16,12,7,4,27,38,37,19,13,13,10,9,13,10,17,35,19,12,15,21,24,9,27,12,14,8,18,16,18,26,19,27,23,20,31,26,17,8,9,19,20,17,7,10,9,5,7,22,13,15,20,12,3,12,16,10,6,7,5,5,11,10,32,18,4,5,5,5,16,21,19,13,8,12,7,7,8,9,1,9,10,17,10,16,20,18,63,32,26,19,12,10,15,11,18,5,8,8,1,5,24,16,17,16,24,10,9,14,18,6,9,7,3,3,8,11,8,8,8,8,6,5,6,10,14,12,10,11,7,10,3,4,9,8,3,17,17,2,2,5,6,5,6,6,7,11,3,2,2,5,9,4,6,5,1,2,6,5,2,5,10,5,2,4,8,13,19,17,10,12,11,13,7,9,12,2,3,4,6,9,35,38,40,29,41,47,50,31,18,10,14,17,21,17,14,13,6,15,12,31,36,35,18,10,5,8,14,12,11,12,4,6,10,6,9,7,12,8,4,12,19,20,26,28,12,19,26,18,24,26,18,14,8,10,16,21,23,25,5,5,6,7,8,15,5,7,8,17,13,17,14,13,4,11,31,34,15,16,18,7,4,6,11,10,12,16,21,13,13,17,13,14,19,12,6,10,2,4,7,6,3,5,11,14,11,11,5,4,2,11,23,12,12,10,8,4,6,2,13,11,20,13,20,15,15,19,26,9,6,15,11,9,14,6,4,4,8,7,6,5,4,4,6,12,12,9,11,3],\"type\":\"bar\",\"xaxis\":\"x\",\"yaxis\":\"y2\"}],                        {\"template\":{\"data\":{\"bar\":[{\"error_x\":{\"color\":\"#2a3f5f\"},\"error_y\":{\"color\":\"#2a3f5f\"},\"marker\":{\"line\":{\"color\":\"#E5ECF6\",\"width\":0.5},\"pattern\":{\"fillmode\":\"overlay\",\"size\":10,\"solidity\":0.2}},\"type\":\"bar\"}],\"barpolar\":[{\"marker\":{\"line\":{\"color\":\"#E5ECF6\",\"width\":0.5},\"pattern\":{\"fillmode\":\"overlay\",\"size\":10,\"solidity\":0.2}},\"type\":\"barpolar\"}],\"carpet\":[{\"aaxis\":{\"endlinecolor\":\"#2a3f5f\",\"gridcolor\":\"white\",\"linecolor\":\"white\",\"minorgridcolor\":\"white\",\"startlinecolor\":\"#2a3f5f\"},\"baxis\":{\"endlinecolor\":\"#2a3f5f\",\"gridcolor\":\"white\",\"linecolor\":\"white\",\"minorgridcolor\":\"white\",\"startlinecolor\":\"#2a3f5f\"},\"type\":\"carpet\"}],\"choropleth\":[{\"colorbar\":{\"outlinewidth\":0,\"ticks\":\"\"},\"type\":\"choropleth\"}],\"contour\":[{\"colorbar\":{\"outlinewidth\":0,\"ticks\":\"\"},\"colorscale\":[[0.0,\"#0d0887\"],[0.1111111111111111,\"#46039f\"],[0.2222222222222222,\"#7201a8\"],[0.3333333333333333,\"#9c179e\"],[0.4444444444444444,\"#bd3786\"],[0.5555555555555556,\"#d8576b\"],[0.6666666666666666,\"#ed7953\"],[0.7777777777777778,\"#fb9f3a\"],[0.8888888888888888,\"#fdca26\"],[1.0,\"#f0f921\"]],\"type\":\"contour\"}],\"contourcarpet\":[{\"colorbar\":{\"outlinewidth\":0,\"ticks\":\"\"},\"type\":\"contourcarpet\"}],\"heatmap\":[{\"colorbar\":{\"outlinewidth\":0,\"ticks\":\"\"},\"colorscale\":[[0.0,\"#0d0887\"],[0.1111111111111111,\"#46039f\"],[0.2222222222222222,\"#7201a8\"],[0.3333333333333333,\"#9c179e\"],[0.4444444444444444,\"#bd3786\"],[0.5555555555555556,\"#d8576b\"],[0.6666666666666666,\"#ed7953\"],[0.7777777777777778,\"#fb9f3a\"],[0.8888888888888888,\"#fdca26\"],[1.0,\"#f0f921\"]],\"type\":\"heatmap\"}],\"heatmapgl\":[{\"colorbar\":{\"outlinewidth\":0,\"ticks\":\"\"},\"colorscale\":[[0.0,\"#0d0887\"],[0.1111111111111111,\"#46039f\"],[0.2222222222222222,\"#7201a8\"],[0.3333333333333333,\"#9c179e\"],[0.4444444444444444,\"#bd3786\"],[0.5555555555555556,\"#d8576b\"],[0.6666666666666666,\"#ed7953\"],[0.7777777777777778,\"#fb9f3a\"],[0.8888888888888888,\"#fdca26\"],[1.0,\"#f0f921\"]],\"type\":\"heatmapgl\"}],\"histogram\":[{\"marker\":{\"pattern\":{\"fillmode\":\"overlay\",\"size\":10,\"solidity\":0.2}},\"type\":\"histogram\"}],\"histogram2d\":[{\"colorbar\":{\"outlinewidth\":0,\"ticks\":\"\"},\"colorscale\":[[0.0,\"#0d0887\"],[0.1111111111111111,\"#46039f\"],[0.2222222222222222,\"#7201a8\"],[0.3333333333333333,\"#9c179e\"],[0.4444444444444444,\"#bd3786\"],[0.5555555555555556,\"#d8576b\"],[0.6666666666666666,\"#ed7953\"],[0.7777777777777778,\"#fb9f3a\"],[0.8888888888888888,\"#fdca26\"],[1.0,\"#f0f921\"]],\"type\":\"histogram2d\"}],\"histogram2dcontour\":[{\"colorbar\":{\"outlinewidth\":0,\"ticks\":\"\"},\"colorscale\":[[0.0,\"#0d0887\"],[0.1111111111111111,\"#46039f\"],[0.2222222222222222,\"#7201a8\"],[0.3333333333333333,\"#9c179e\"],[0.4444444444444444,\"#bd3786\"],[0.5555555555555556,\"#d8576b\"],[0.6666666666666666,\"#ed7953\"],[0.7777777777777778,\"#fb9f3a\"],[0.8888888888888888,\"#fdca26\"],[1.0,\"#f0f921\"]],\"type\":\"histogram2dcontour\"}],\"mesh3d\":[{\"colorbar\":{\"outlinewidth\":0,\"ticks\":\"\"},\"type\":\"mesh3d\"}],\"parcoords\":[{\"line\":{\"colorbar\":{\"outlinewidth\":0,\"ticks\":\"\"}},\"type\":\"parcoords\"}],\"pie\":[{\"automargin\":true,\"type\":\"pie\"}],\"scatter\":[{\"marker\":{\"colorbar\":{\"outlinewidth\":0,\"ticks\":\"\"}},\"type\":\"scatter\"}],\"scatter3d\":[{\"line\":{\"colorbar\":{\"outlinewidth\":0,\"ticks\":\"\"}},\"marker\":{\"colorbar\":{\"outlinewidth\":0,\"ticks\":\"\"}},\"type\":\"scatter3d\"}],\"scattercarpet\":[{\"marker\":{\"colorbar\":{\"outlinewidth\":0,\"ticks\":\"\"}},\"type\":\"scattercarpet\"}],\"scattergeo\":[{\"marker\":{\"colorbar\":{\"outlinewidth\":0,\"ticks\":\"\"}},\"type\":\"scattergeo\"}],\"scattergl\":[{\"marker\":{\"colorbar\":{\"outlinewidth\":0,\"ticks\":\"\"}},\"type\":\"scattergl\"}],\"scattermapbox\":[{\"marker\":{\"colorbar\":{\"outlinewidth\":0,\"ticks\":\"\"}},\"type\":\"scattermapbox\"}],\"scatterpolar\":[{\"marker\":{\"colorbar\":{\"outlinewidth\":0,\"ticks\":\"\"}},\"type\":\"scatterpolar\"}],\"scatterpolargl\":[{\"marker\":{\"colorbar\":{\"outlinewidth\":0,\"ticks\":\"\"}},\"type\":\"scatterpolargl\"}],\"scatterternary\":[{\"marker\":{\"colorbar\":{\"outlinewidth\":0,\"ticks\":\"\"}},\"type\":\"scatterternary\"}],\"surface\":[{\"colorbar\":{\"outlinewidth\":0,\"ticks\":\"\"},\"colorscale\":[[0.0,\"#0d0887\"],[0.1111111111111111,\"#46039f\"],[0.2222222222222222,\"#7201a8\"],[0.3333333333333333,\"#9c179e\"],[0.4444444444444444,\"#bd3786\"],[0.5555555555555556,\"#d8576b\"],[0.6666666666666666,\"#ed7953\"],[0.7777777777777778,\"#fb9f3a\"],[0.8888888888888888,\"#fdca26\"],[1.0,\"#f0f921\"]],\"type\":\"surface\"}],\"table\":[{\"cells\":{\"fill\":{\"color\":\"#EBF0F8\"},\"line\":{\"color\":\"white\"}},\"header\":{\"fill\":{\"color\":\"#C8D4E3\"},\"line\":{\"color\":\"white\"}},\"type\":\"table\"}]},\"layout\":{\"annotationdefaults\":{\"arrowcolor\":\"#2a3f5f\",\"arrowhead\":0,\"arrowwidth\":1},\"autotypenumbers\":\"strict\",\"coloraxis\":{\"colorbar\":{\"outlinewidth\":0,\"ticks\":\"\"}},\"colorscale\":{\"diverging\":[[0,\"#8e0152\"],[0.1,\"#c51b7d\"],[0.2,\"#de77ae\"],[0.3,\"#f1b6da\"],[0.4,\"#fde0ef\"],[0.5,\"#f7f7f7\"],[0.6,\"#e6f5d0\"],[0.7,\"#b8e186\"],[0.8,\"#7fbc41\"],[0.9,\"#4d9221\"],[1,\"#276419\"]],\"sequential\":[[0.0,\"#0d0887\"],[0.1111111111111111,\"#46039f\"],[0.2222222222222222,\"#7201a8\"],[0.3333333333333333,\"#9c179e\"],[0.4444444444444444,\"#bd3786\"],[0.5555555555555556,\"#d8576b\"],[0.6666666666666666,\"#ed7953\"],[0.7777777777777778,\"#fb9f3a\"],[0.8888888888888888,\"#fdca26\"],[1.0,\"#f0f921\"]],\"sequentialminus\":[[0.0,\"#0d0887\"],[0.1111111111111111,\"#46039f\"],[0.2222222222222222,\"#7201a8\"],[0.3333333333333333,\"#9c179e\"],[0.4444444444444444,\"#bd3786\"],[0.5555555555555556,\"#d8576b\"],[0.6666666666666666,\"#ed7953\"],[0.7777777777777778,\"#fb9f3a\"],[0.8888888888888888,\"#fdca26\"],[1.0,\"#f0f921\"]]},\"colorway\":[\"#636efa\",\"#EF553B\",\"#00cc96\",\"#ab63fa\",\"#FFA15A\",\"#19d3f3\",\"#FF6692\",\"#B6E880\",\"#FF97FF\",\"#FECB52\"],\"font\":{\"color\":\"#2a3f5f\"},\"geo\":{\"bgcolor\":\"white\",\"lakecolor\":\"white\",\"landcolor\":\"#E5ECF6\",\"showlakes\":true,\"showland\":true,\"subunitcolor\":\"white\"},\"hoverlabel\":{\"align\":\"left\"},\"hovermode\":\"closest\",\"mapbox\":{\"style\":\"light\"},\"paper_bgcolor\":\"white\",\"plot_bgcolor\":\"#E5ECF6\",\"polar\":{\"angularaxis\":{\"gridcolor\":\"white\",\"linecolor\":\"white\",\"ticks\":\"\"},\"bgcolor\":\"#E5ECF6\",\"radialaxis\":{\"gridcolor\":\"white\",\"linecolor\":\"white\",\"ticks\":\"\"}},\"scene\":{\"xaxis\":{\"backgroundcolor\":\"#E5ECF6\",\"gridcolor\":\"white\",\"gridwidth\":2,\"linecolor\":\"white\",\"showbackground\":true,\"ticks\":\"\",\"zerolinecolor\":\"white\"},\"yaxis\":{\"backgroundcolor\":\"#E5ECF6\",\"gridcolor\":\"white\",\"gridwidth\":2,\"linecolor\":\"white\",\"showbackground\":true,\"ticks\":\"\",\"zerolinecolor\":\"white\"},\"zaxis\":{\"backgroundcolor\":\"#E5ECF6\",\"gridcolor\":\"white\",\"gridwidth\":2,\"linecolor\":\"white\",\"showbackground\":true,\"ticks\":\"\",\"zerolinecolor\":\"white\"}},\"shapedefaults\":{\"line\":{\"color\":\"#2a3f5f\"}},\"ternary\":{\"aaxis\":{\"gridcolor\":\"white\",\"linecolor\":\"white\",\"ticks\":\"\"},\"baxis\":{\"gridcolor\":\"white\",\"linecolor\":\"white\",\"ticks\":\"\"},\"bgcolor\":\"#E5ECF6\",\"caxis\":{\"gridcolor\":\"white\",\"linecolor\":\"white\",\"ticks\":\"\"}},\"title\":{\"x\":0.05},\"xaxis\":{\"automargin\":true,\"gridcolor\":\"white\",\"linecolor\":\"white\",\"ticks\":\"\",\"title\":{\"standoff\":15},\"zerolinecolor\":\"white\",\"zerolinewidth\":2},\"yaxis\":{\"automargin\":true,\"gridcolor\":\"white\",\"linecolor\":\"white\",\"ticks\":\"\",\"title\":{\"standoff\":15},\"zerolinecolor\":\"white\",\"zerolinewidth\":2}}},\"xaxis\":{\"anchor\":\"y\",\"domain\":[0.0,0.94],\"title\":{\"text\":\"Dates\"},\"rangeslider\":{\"visible\":true}},\"yaxis\":{\"anchor\":\"x\",\"domain\":[0.0,1.0],\"title\":{\"text\":\"Ton moyen\"}},\"yaxis2\":{\"anchor\":\"x\",\"overlaying\":\"y\",\"side\":\"right\",\"title\":{\"text\":\"Nombre d'articles\"}},\"title\":{\"text\":\"\\u00c9volution des relations entre France et China au cours de l\\u2019ann\\u00e9e\"}},                        {\"responsive\": true}                    ).then(function(){\n",
       "                            \n",
       "var gd = document.getElementById('1015b27a-8bb4-4967-8ed6-c2c4ea088392');\n",
       "var x = new MutationObserver(function (mutations, observer) {{\n",
       "        var display = window.getComputedStyle(gd).display;\n",
       "        if (!display || display === 'none') {{\n",
       "            console.log([gd, 'removed!']);\n",
       "            Plotly.purge(gd);\n",
       "            observer.disconnect();\n",
       "        }}\n",
       "}});\n",
       "\n",
       "// Listen for the removal of the full notebook cells\n",
       "var notebookContainer = gd.closest('#notebook-container');\n",
       "if (notebookContainer) {{\n",
       "    x.observe(notebookContainer, {childList: true});\n",
       "}}\n",
       "\n",
       "// Listen for the clearing of the current output cell\n",
       "var outputEl = gd.closest('.output');\n",
       "if (outputEl) {{\n",
       "    x.observe(outputEl, {childList: true});\n",
       "}}\n",
       "\n",
       "                        })                };                });            </script>        </div>"
      ]
     },
     "metadata": {},
     "output_type": "display_data"
    }
   ],
   "source": [
    "import plotly.graph_objects as go\n",
    "from plotly.subplots import make_subplots\n",
    "\n",
    "# Create figure with secondary y-axis\n",
    "fig = make_subplots(specs=[[{\"secondary_y\": True}]])\n",
    "\n",
    "# Add traces\n",
    "fig.add_trace(\n",
    "    go.Scatter(x=dfpx[\"day\"], y=dfpx[\"Tone_Mean\"], name = 'Ton moyen'),\n",
    "    secondary_y=False,\n",
    ")\n",
    "\n",
    "fig.add_trace(\n",
    "    go.Bar(x=dfpx[\"day\"], y=dfpx[\"Nb_Events\"], name=\"Nombre d'articles\"),\n",
    "    secondary_y=True,\n",
    ")\n",
    "\n",
    "# Add figure title\n",
    "fig.update_layout(\n",
    "    title_text=f\"Évolution des relations entre {Country_1} et {Country_2} au cours de l’année\"\n",
    ")\n",
    "\n",
    "# Set x-axis title\n",
    "fig.update_xaxes(title_text=\"Dates\")\n",
    "\n",
    "# Set y-axes titles\n",
    "fig.update_yaxes(title_text=\"Ton moyen\", secondary_y=False)\n",
    "fig.update_yaxes(title_text=\"Nombre d'articles\", secondary_y=True)\n",
    "fig.update_xaxes(rangeslider_visible=True)\n",
    "fig.show()\n"
   ]
  },
  {
   "cell_type": "markdown",
   "id": "32d86f69",
   "metadata": {},
   "source": [
    "### Nouvelles données"
   ]
  },
  {
   "cell_type": "code",
   "execution_count": 46,
   "id": "41158900",
   "metadata": {},
   "outputs": [
    {
     "name": "stdout",
     "output_type": "stream",
     "text": [
      "0   2022-02-11 09:45:00\n",
      "Name: day, dtype: datetime64[ns]\n"
     ]
    },
    {
     "name": "stderr",
     "output_type": "stream",
     "text": [
      "22/02/11 09:47:49 WARN ChannelPool: [s0|/192.168.3.108:9042]  Error while opening new channel (ConnectionInitException: [s0|connecting...] Protocol initialization request, step 1 (STARTUP {CQL_VERSION=3.0.0, DRIVER_NAME=DataStax Java driver for Apache Cassandra(R), DRIVER_VERSION=4.12.0, CLIENT_ID=620b9e75-6972-404e-83f6-3a513d4929c3, APPLICATION_NAME=Spark-Cassandra-Connector-app-20220211083620-0006}): failed to send request (com.datastax.oss.driver.shaded.netty.channel.StacklessClosedChannelException))\n",
      "22/02/11 09:48:49 WARN ChannelPool: [s0|/192.168.3.108:9042]  Error while opening new channel (ConnectionInitException: [s0|connecting...] Protocol initialization request, step 1 (STARTUP {CQL_VERSION=3.0.0, DRIVER_NAME=DataStax Java driver for Apache Cassandra(R), DRIVER_VERSION=4.12.0, CLIENT_ID=620b9e75-6972-404e-83f6-3a513d4929c3, APPLICATION_NAME=Spark-Cassandra-Connector-app-20220211083620-0006}): failed to send request (com.datastax.oss.driver.shaded.netty.channel.StacklessClosedChannelException))\n"
     ]
    }
   ],
   "source": [
    "date = sqlSparkContext.sql(\"SELECT max(date) as day FROM mycatalog.gdelt_prod.importstatus\").toPandas()\n",
    "print(pd.to_datetime(date.day,format='%Y%m%d%H%M%S'))"
   ]
  },
  {
   "cell_type": "markdown",
   "id": "5ea7651b",
   "metadata": {},
   "source": [
    "### Test Shutdown d'un node Cassandra"
   ]
  },
  {
   "cell_type": "code",
   "execution_count": 44,
   "id": "cee1de47",
   "metadata": {},
   "outputs": [
    {
     "name": "stderr",
     "output_type": "stream",
     "text": [
      "[Stage 57:================================================>     (180 + 8) / 200]\r"
     ]
    },
    {
     "name": "stdout",
     "output_type": "stream",
     "text": [
      "+--------+---------+-------------------+\n",
      "|     day|Nb_Events|          Tone_Mean|\n",
      "+--------+---------+-------------------+\n",
      "|20110429|        1|-0.9124087691307068|\n",
      "|20200102|        1| 2.2346367835998535|\n",
      "|20200107|        1| 3.3057851791381836|\n",
      "|20200117|        1| 3.4120733737945557|\n",
      "|20200120|        1| -4.258943557739258|\n",
      "|20200122|        3|-1.2817181050777435|\n",
      "|20200213|        1| 1.4758497476577759|\n",
      "|20200218|        1| 1.0781670808792114|\n",
      "|20200220|        1|                0.0|\n",
      "|20200307|        1|-3.1396126747131348|\n",
      "|20200308|        2|-3.2213603258132935|\n",
      "|20200311|        1|-4.6728973388671875|\n",
      "|20200323|        1| -5.761316776275635|\n",
      "|20200404|        1| -2.826855182647705|\n",
      "|20200405|        1| -3.995157480239868|\n",
      "|20200409|        1|-0.6888633966445923|\n",
      "|20200413|        1|-5.6129984855651855|\n",
      "|20200419|        1| 1.5193370580673218|\n",
      "|20200420|        2|  3.332739233970642|\n",
      "|20200423|        1|-0.4073319733142853|\n",
      "+--------+---------+-------------------+\n",
      "only showing top 20 rows\n",
      "\n"
     ]
    },
    {
     "name": "stderr",
     "output_type": "stream",
     "text": [
      "22/02/11 09:35:12 WARN ChannelPool: [s0|/192.168.3.108:9042]  Error while opening new channel (ConnectionInitException: [s0|connecting...] Protocol initialization request, step 1 (STARTUP {CQL_VERSION=3.0.0, DRIVER_NAME=DataStax Java driver for Apache Cassandra(R), DRIVER_VERSION=4.12.0, CLIENT_ID=620b9e75-6972-404e-83f6-3a513d4929c3, APPLICATION_NAME=Spark-Cassandra-Connector-app-20220211083620-0006}): failed to send request (com.datastax.oss.driver.shaded.netty.channel.StacklessClosedChannelException))\n",
      "22/02/11 09:36:10 WARN ChannelPool: [s0|/192.168.3.108:9042]  Error while opening new channel (ConnectionInitException: [s0|connecting...] Protocol initialization request, step 1 (STARTUP {CQL_VERSION=3.0.0, DRIVER_NAME=DataStax Java driver for Apache Cassandra(R), DRIVER_VERSION=4.12.0, CLIENT_ID=620b9e75-6972-404e-83f6-3a513d4929c3, APPLICATION_NAME=Spark-Cassandra-Connector-app-20220211083620-0006}): failed to send request (com.datastax.oss.driver.shaded.netty.channel.StacklessClosedChannelException))\n",
      "22/02/11 09:37:10 WARN ChannelPool: [s0|/192.168.3.108:9042]  Error while opening new channel (ConnectionInitException: [s0|connecting...] Protocol initialization request, step 1 (STARTUP {CQL_VERSION=3.0.0, DRIVER_NAME=DataStax Java driver for Apache Cassandra(R), DRIVER_VERSION=4.12.0, CLIENT_ID=620b9e75-6972-404e-83f6-3a513d4929c3, APPLICATION_NAME=Spark-Cassandra-Connector-app-20220211083620-0006}): failed to send request (com.datastax.oss.driver.shaded.netty.channel.StacklessClosedChannelException))\n",
      "22/02/11 09:38:10 WARN ChannelPool: [s0|/192.168.3.108:9042]  Error while opening new channel (ConnectionInitException: [s0|connecting...] Protocol initialization request, step 1 (STARTUP {CQL_VERSION=3.0.0, DRIVER_NAME=DataStax Java driver for Apache Cassandra(R), DRIVER_VERSION=4.12.0, CLIENT_ID=620b9e75-6972-404e-83f6-3a513d4929c3, APPLICATION_NAME=Spark-Cassandra-Connector-app-20220211083620-0006}): failed to send request (com.datastax.oss.driver.shaded.netty.channel.StacklessClosedChannelException))\n",
      "22/02/11 09:39:07 WARN ChannelPool: [s0|/192.168.3.108:9042]  Error while opening new channel (ConnectionInitException: [s0|connecting...] Protocol initialization request, step 1 (STARTUP {CQL_VERSION=3.0.0, DRIVER_NAME=DataStax Java driver for Apache Cassandra(R), DRIVER_VERSION=4.12.0, CLIENT_ID=620b9e75-6972-404e-83f6-3a513d4929c3, APPLICATION_NAME=Spark-Cassandra-Connector-app-20220211083620-0006}): failed to send request (com.datastax.oss.driver.shaded.netty.channel.StacklessClosedChannelException))\n",
      "22/02/11 09:40:01 WARN ChannelPool: [s0|/192.168.3.108:9042]  Error while opening new channel (ConnectionInitException: [s0|connecting...] Protocol initialization request, step 1 (STARTUP {CQL_VERSION=3.0.0, DRIVER_NAME=DataStax Java driver for Apache Cassandra(R), DRIVER_VERSION=4.12.0, CLIENT_ID=620b9e75-6972-404e-83f6-3a513d4929c3, APPLICATION_NAME=Spark-Cassandra-Connector-app-20220211083620-0006}): failed to send request (com.datastax.oss.driver.shaded.netty.channel.StacklessClosedChannelException))\n"
     ]
    }
   ],
   "source": [
    "df1 = sqlSparkContext.sql(\"SELECT  DISTINCT sourceurl,day, averagetone FROM mycatalog.gdelt_prod.relationship WHERE actor1_geocountrycode='{}' AND actor2_geocountrycode='{}'\".format(country_1,country_2))\n",
    "\n",
    "df2 = sqlSparkContext.sql(\"SELECT  DISTINCT sourceurl,day, averagetone FROM mycatalog.gdelt_prod.relationship WHERE actor1_geocountrycode='{}' AND actor2_geocountrycode='{}'\".format(country_2,country_1))\n",
    "\n",
    "df_all = df1.union(df2)\n",
    "\n",
    "df_all.createOrReplaceTempView(\"table1\")\n",
    "df_final = sqlSparkContext.sql(\"SELECT day, COUNT (DISTINCT sourceurl) AS Nb_Events, AVG(averagetone) AS Tone_Mean FROM (table1) GROUP BY day ORDER BY day ASC\")\n",
    "df_final.show()"
   ]
  },
  {
   "cell_type": "code",
   "execution_count": null,
   "id": "97c30c2a",
   "metadata": {},
   "outputs": [],
   "source": []
  }
 ],
 "metadata": {
  "kernelspec": {
   "display_name": "Python 3 (ipykernel)",
   "language": "python",
   "name": "python3"
  },
  "language_info": {
   "codemirror_mode": {
    "name": "ipython",
    "version": 3
   },
   "file_extension": ".py",
   "mimetype": "text/x-python",
   "name": "python",
   "nbconvert_exporter": "python",
   "pygments_lexer": "ipython3",
   "version": "3.8.10"
  }
 },
 "nbformat": 4,
 "nbformat_minor": 5
}
